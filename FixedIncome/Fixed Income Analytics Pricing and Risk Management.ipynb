{
 "cells": [
  {
   "cell_type": "markdown",
   "metadata": {
    "toc": true
   },
   "source": [
    "<h1>Table of Contents<span class=\"tocSkip\"></span></h1>\n",
    "<div class=\"toc\"><ul class=\"toc-item\"><li><span><a href=\"#Interest-Rates-And-Bonds\" data-toc-modified-id=\"Interest-Rates-And-Bonds-1\"><span class=\"toc-item-num\">1&nbsp;&nbsp;</span>Interest Rates And Bonds</a></span><ul class=\"toc-item\"><li><span><a href=\"#Interest-Rates\" data-toc-modified-id=\"Interest-Rates-1.1\"><span class=\"toc-item-num\">1.1&nbsp;&nbsp;</span>Interest Rates</a></span><ul class=\"toc-item\"><li><span><a href=\"#Simple-Interest\" data-toc-modified-id=\"Simple-Interest-1.1.1\"><span class=\"toc-item-num\">1.1.1&nbsp;&nbsp;</span>Simple Interest</a></span></li><li><span><a href=\"#Compound-Interest\" data-toc-modified-id=\"Compound-Interest-1.1.2\"><span class=\"toc-item-num\">1.1.2&nbsp;&nbsp;</span>Compound Interest</a></span></li><li><span><a href=\"#Continuous-Interest\" data-toc-modified-id=\"Continuous-Interest-1.1.3\"><span class=\"toc-item-num\">1.1.3&nbsp;&nbsp;</span>Continuous Interest</a></span></li></ul></li><li><span><a href=\"#Investment-Return-Measures\" data-toc-modified-id=\"Investment-Return-Measures-1.2\"><span class=\"toc-item-num\">1.2&nbsp;&nbsp;</span>Investment Return Measures</a></span></li><li><span><a href=\"#Coupon-Bonds\" data-toc-modified-id=\"Coupon-Bonds-1.3\"><span class=\"toc-item-num\">1.3&nbsp;&nbsp;</span>Coupon Bonds</a></span></li><li><span><a href=\"#Bond-Pricing\" data-toc-modified-id=\"Bond-Pricing-1.4\"><span class=\"toc-item-num\">1.4&nbsp;&nbsp;</span>Bond Pricing</a></span></li></ul></li></ul></div>"
   ]
  },
  {
   "cell_type": "markdown",
   "metadata": {},
   "source": [
    "# Fixed Income Analytics Pricing and Risk Management"
   ]
  },
  {
   "cell_type": "markdown",
   "metadata": {},
   "source": [
    "## Interest Rates And Bonds"
   ]
  },
  {
   "cell_type": "markdown",
   "metadata": {},
   "source": [
    "### Interest Rates"
   ]
  },
  {
   "cell_type": "markdown",
   "metadata": {},
   "source": [
    "Interest rates are measures of the price charged in the economy to borrow money\n",
    "\n",
    "\n",
    "**Terminology:** \n",
    "* Interest: Charge levied to borrow money.\n",
    "* Principal: The amount of money borrowed in a loan.\n",
    "* Interest Rate: Fraction of the principal of a loan that will be charged as interest per unit time.\n",
    "* Time Basis: The time unit implicit in an interest rate.\n",
    "* Annual Interest Rate: Interest Rate for which the time basis is one year. \n",
    "\n",
    "**Example:**\n",
    "Suppose we take out a loan with a principal of X at an annual interest rate of r. Then, our total debt after 1 year is: \n",
    "\n",
    "$$D = (1+r)X$$\n",
    "\n",
    "This assumes that interest is calculated once on the principal and is charged once during the year, which is an example of annual compounding, but there are other compounding conventions (semiannual, monthly, continuous...)"
   ]
  },
  {
   "cell_type": "markdown",
   "metadata": {},
   "source": [
    "#### Simple Interest"
   ]
  },
  {
   "cell_type": "markdown",
   "metadata": {},
   "source": [
    "Interest that is levied only on the original principal. No interest is ever charged on the accumulated interest at any time. That is, there is no compounding.\n",
    "\n",
    "If we invest a principal F at the simply compunded interest rate r for a duration od T years, then: \n",
    "\n",
    "$$Investment = Principal + Interest = (1+rT)F$$\n",
    "\n",
    "In the case where T es less than a year then we can write T=d/365 where d is the days over the interest period. But this can vary depending on the day count convention."
   ]
  },
  {
   "cell_type": "markdown",
   "metadata": {},
   "source": [
    "#### Compound Interest"
   ]
  },
  {
   "cell_type": "markdown",
   "metadata": {},
   "source": [
    "Compiunded interest is interest that is added to the principal once per time period so that interest in the next period is levied on the interest charged so far as well as the principal. Suppose the time period is 1 year, then: \n",
    "\n",
    "$$ V(T) = (1+r)^TF $$\n",
    "\n",
    "Where N in the period of the investment.  In the case of semmianual compounding: \n",
    "\n",
    "$$ V(T) = (1+\\frac{r}{2})^{2T} F $$\n",
    "\n",
    "More generally, if the interest is compunded k times per year, then: \n",
    "\n",
    "$$ V(T) = (1+\\frac{r}{k})^{kT}X $$"
   ]
  },
  {
   "cell_type": "markdown",
   "metadata": {},
   "source": [
    "#### Continuous Interest"
   ]
  },
  {
   "cell_type": "markdown",
   "metadata": {},
   "source": [
    "Instantaneous compounding of all interest income. Limit of periodic compounding as the compounding frequency goes to infinity.\n",
    "Since:\n",
    "\n",
    "$$ \\lim_{k->\\infty} (1+r/k)^{kT} = e^{rT}$$\n",
    "\n",
    "Then:\n",
    "\n",
    "$$ V(T) = e^{rT}X$$"
   ]
  },
  {
   "cell_type": "markdown",
   "metadata": {},
   "source": [
    "### Investment Return Measures"
   ]
  },
  {
   "cell_type": "markdown",
   "metadata": {},
   "source": [
    "We can consider absolute and relative measures of return on investment (ROI). The most basic example of absolute return is the profit and loss (P&L) which is: \n",
    "\n",
    "$$ PL = V(T)-V(0)$$\n",
    "\n",
    "One simple relative return measure is the gross return:\n",
    "\n",
    "$$ g = \\frac{V(T)}{V(0)}$$"
   ]
  },
  {
   "cell_type": "markdown",
   "metadata": {},
   "source": [
    "The most basic return measure is the quantity R defined by: $g=1+R$, ofted called rate of return , return or cumulative return.\n",
    "\n",
    "Annualized returns are measures of return per unit time. We define annualized return $\\rho$ such that: \n",
    "\n",
    "$$ (1+\\rho)^T = \\frac{V(T)}{V(0)} $$\n",
    "\n",
    "or: \n",
    "\n",
    "$$ \\rho = \\bigg(\\frac{V(T)}{V(0)}\\bigg)^{1/T}-1 $$"
   ]
  },
  {
   "cell_type": "markdown",
   "metadata": {},
   "source": [
    "### Coupon Bonds"
   ]
  },
  {
   "cell_type": "markdown",
   "metadata": {},
   "source": [
    "A bond or debt security is a contract that a borrowing entity offers to enter into with potential bond buyers. The borrower is said to isse the bond and is this referred to as the bond issuer. The counterparty is called the bond holder. Bonds are tradeable instruments.\n",
    "\n",
    "There are preset times $t_1$, $t_2$, ..., $t_N$ and corresponding cash flows $c_1$, $c_2$, ..., $c_N$ which are paid by the issuer to the bond holder.\n",
    "\n",
    "Most issued bonds are coupon bonds, which are specified by a set of key parameters. \n",
    "* The face value (F): also called par value, principal or nominal value of the bond.\n",
    "* Maturity: day in which the contract terminates. At or about the maturity date, the face value is paid to the bond holder. \n",
    "* Coupon rate: interest rate of the bond. The annual coupon will be denoted by $c$ and the coupon rate is thus $c/F$ \n",
    "\n",
    "If the payment frequency is k then the cash flows are c/k paid at regularly spaced intervals k times per year. By far the most popular form of bond has k=1 or k=2. \n",
    "\n",
    "The most prevalent structure is known as vanilla bond or bullet bond. "
   ]
  },
  {
   "cell_type": "markdown",
   "metadata": {},
   "source": [
    "A special case is the zero coupon bond, that only makes one payment at maturity date. While this is true mathematically if violates the spirit of what we mean by coupon bonds, so they are considered as a distinct class of securities. "
   ]
  },
  {
   "cell_type": "markdown",
   "metadata": {},
   "source": [
    "### Bond Pricing"
   ]
  },
  {
   "cell_type": "markdown",
   "metadata": {},
   "source": [
    "As a convention in many markets, the quoted price of bonds are per 100€ nominal value. That is, the price is quoted for a 100€ nominal value on the given bond, and then it is scaled up for a bond with a different face value. This means that the bond's price is reported as a percentage of the nominal value."
   ]
  },
  {
   "cell_type": "code",
   "execution_count": null,
   "metadata": {},
   "outputs": [],
   "source": []
  }
 ],
 "metadata": {
  "kernelspec": {
   "display_name": "Python [conda env:root] *",
   "language": "python",
   "name": "conda-root-py"
  },
  "language_info": {
   "codemirror_mode": {
    "name": "ipython",
    "version": 3
   },
   "file_extension": ".py",
   "mimetype": "text/x-python",
   "name": "python",
   "nbconvert_exporter": "python",
   "pygments_lexer": "ipython3",
   "version": "3.7.6"
  },
  "latex_envs": {
   "LaTeX_envs_menu_present": true,
   "autoclose": false,
   "autocomplete": true,
   "bibliofile": "biblio.bib",
   "cite_by": "apalike",
   "current_citInitial": 1,
   "eqLabelWithNumbers": true,
   "eqNumInitial": 1,
   "hotkeys": {
    "equation": "Ctrl-E",
    "itemize": "Ctrl-I"
   },
   "labels_anchors": false,
   "latex_user_defs": false,
   "report_style_numbering": false,
   "user_envs_cfg": false
  },
  "toc": {
   "base_numbering": 1,
   "nav_menu": {},
   "number_sections": true,
   "sideBar": true,
   "skip_h1_title": true,
   "title_cell": "Table of Contents",
   "title_sidebar": "Contents",
   "toc_cell": true,
   "toc_position": {
    "height": "calc(100% - 180px)",
    "left": "10px",
    "top": "150px",
    "width": "257px"
   },
   "toc_section_display": true,
   "toc_window_display": true
  }
 },
 "nbformat": 4,
 "nbformat_minor": 4
}
