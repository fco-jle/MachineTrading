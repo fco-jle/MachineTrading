{
 "cells": [
  {
   "cell_type": "markdown",
   "metadata": {
    "toc": true
   },
   "source": [
    "<h1>Table of Contents<span class=\"tocSkip\"></span></h1>\n",
    "<div class=\"toc\"><ul class=\"toc-item\"><li><span><a href=\"#The-Varriation-in-Interest-Rates\" data-toc-modified-id=\"The-Varriation-in-Interest-Rates-1\"><span class=\"toc-item-num\">1&nbsp;&nbsp;</span>The Varriation in Interest Rates</a></span></li><li><span><a href=\"#Duration\" data-toc-modified-id=\"Duration-2\"><span class=\"toc-item-num\">2&nbsp;&nbsp;</span>Duration</a></span></li></ul></div>"
   ]
  },
  {
   "cell_type": "markdown",
   "metadata": {},
   "source": [
    "# Basics Of Interest Rate Risk Management"
   ]
  },
  {
   "cell_type": "markdown",
   "metadata": {},
   "source": [
    "### The Varriation in Interest Rates"
   ]
  },
  {
   "cell_type": "markdown",
   "metadata": {},
   "source": [
    "**Definition 3.1** The level of interest rates is the average yield across maturities.\n",
    "\n",
    "As the level of interest rates changes over time, banks, bond portfolio managers and\n",
    "corporations worry about the impact that the swings in interest rates have on the value of\n",
    "their assets and liabilities."
   ]
  },
  {
   "cell_type": "markdown",
   "metadata": {},
   "source": [
    "<img src=\"Images\\YieldsSeries.JPG\"> "
   ]
  },
  {
   "cell_type": "markdown",
   "metadata": {},
   "source": [
    "### Duration"
   ]
  },
  {
   "cell_type": "markdown",
   "metadata": {},
   "source": [
    "**Definition 3.2** The duration of a security with price $P$ is the (negative of the) percent sensitivity of the price P to a small parallel shift in the level of interest rates. That is, let $r(t,T)$ be the continuously compounded term structure of interest rates at time t. Consider a uniform shift of size $dr$ across rates that brings rates to $\\bar{r}(t, T)$, given by\n",
    "\n",
    "$$ r(t,T) \\rightarrow \\bar{r}(t, T) = r(t, T) + dr $$\n",
    "\n",
    "Let the price of the security move by $dP$ as a consequence of the shift:\n",
    "\n",
    "$$ P \\rightarrow \\bar{P} = P+dP $$\n",
    "\n",
    "The duration of the asset is then defined as:\n",
    "\n",
    "$$ D_P = -\\frac{1}{P}\\frac{dP}{dr} $$\n",
    "\n",
    "The notion of duration then measures the impact that such a uniform\n",
    "change on the yield curve has on the price of the security P.\n",
    "\n",
    "**Fact 3.1** Given a duration $D_P$ of a security with price $P$, a uniform change in the level of interest rates brings about a change in the value of:\n",
    "\n",
    "$$ dP = -D_P Pdr $$\n",
    "\n",
    "**Fact 3.2** Let $P_z(r, t, T )$ be the price of a zero coupon bond at time $t$ with maturity $T$ and continuously compounded interest rate $r$. The first derivative of $P_z(r, t, T )$ with respect to $r$ is:\n",
    "\n",
    "$$ \\frac{dP_z}{dr} = 100\\bigg[\\frac{d(e^{-r(T-t)})}{dr}\\bigg] = -(T-t)P_z(r,t,T) $$\n",
    "\n",
    "\n",
    "Visually, the first derivative represents the slope of the curve $P_z(r,t,T)$.\n",
    "Hence, for a zero coupon bond, the Duration is given by: \n",
    "\n",
    "$$ D_{z,T} = T-t $$\n",
    "\n",
    "That is, for a zero coupon bond, the duration is equal to the time to maturity."
   ]
  },
  {
   "attachments": {},
   "cell_type": "markdown",
   "metadata": {},
   "source": [
    "<img src=\"Images\\DurationPlot.JPG\"> "
   ]
  },
  {
   "cell_type": "markdown",
   "metadata": {},
   "source": [
    "Fact 3.3 The duration of portfolio of n securities is given by\n",
    "\n",
    "$$ D_W = \\sum_{i=1}^n w_i D_i $$\n",
    "\n",
    "Where $w_i$ is the fraction of the portfolio invested in security i, and $D_i$ is the duration of security $i$. "
   ]
  },
  {
   "cell_type": "markdown",
   "metadata": {},
   "source": [
    "The duration of a coupon bond can be derived as follows: \n",
    "\n",
    "$$ P_c(0, T_n) = \\sum_{i=1}^{n-1} \\frac{c}{2}P_z(0,T_i) + (1+\\frac{c}{2})P_z(0, T_n) $$\n",
    "\n",
    "Define the weights: \n",
    "\n",
    "$$ w_i = \\frac{c/2 P_z(0,T_i)}{P_c(0, T_n)} $$\n",
    "\n",
    "$$ w_n = \\frac{(1+c/2)P_z(0, T_n)}{P_c(0,T_n)}$$\n",
    "\n",
    "Then the Duration of a coupon bond is: \n",
    "\n",
    "$$ D_c = \\sum_{i=1}^n w_iD_{z,T_i} = \\sum_{i=1}^n w_i T_i $$\n",
    "\n",
    "That is, the duration of a coupon bond is a weighted average of coupon payment times $T_i$ ."
   ]
  },
  {
   "cell_type": "code",
   "execution_count": null,
   "metadata": {},
   "outputs": [],
   "source": []
  }
 ],
 "metadata": {
  "kernelspec": {
   "display_name": "Python [conda env:root] *",
   "language": "python",
   "name": "conda-root-py"
  },
  "language_info": {
   "codemirror_mode": {
    "name": "ipython",
    "version": 3
   },
   "file_extension": ".py",
   "mimetype": "text/x-python",
   "name": "python",
   "nbconvert_exporter": "python",
   "pygments_lexer": "ipython3",
   "version": "3.7.6"
  },
  "latex_envs": {
   "LaTeX_envs_menu_present": true,
   "autoclose": false,
   "autocomplete": true,
   "bibliofile": "biblio.bib",
   "cite_by": "apalike",
   "current_citInitial": 1,
   "eqLabelWithNumbers": true,
   "eqNumInitial": 1,
   "hotkeys": {
    "equation": "Ctrl-E",
    "itemize": "Ctrl-I"
   },
   "labels_anchors": false,
   "latex_user_defs": false,
   "report_style_numbering": false,
   "user_envs_cfg": false
  },
  "toc": {
   "base_numbering": 1,
   "nav_menu": {},
   "number_sections": true,
   "sideBar": true,
   "skip_h1_title": true,
   "title_cell": "Table of Contents",
   "title_sidebar": "Contents",
   "toc_cell": true,
   "toc_position": {},
   "toc_section_display": true,
   "toc_window_display": false
  }
 },
 "nbformat": 4,
 "nbformat_minor": 4
}
