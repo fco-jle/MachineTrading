{
 "cells": [
  {
   "cell_type": "markdown",
   "metadata": {
    "toc": true
   },
   "source": [
    "<h1>Table of Contents<span class=\"tocSkip\"></span></h1>\n",
    "<div class=\"toc\"><ul class=\"toc-item\"><li><span><a href=\"#The-Varriation-in-Interest-Rates\" data-toc-modified-id=\"The-Varriation-in-Interest-Rates-1\"><span class=\"toc-item-num\">1&nbsp;&nbsp;</span>The Varriation in Interest Rates</a></span></li><li><span><a href=\"#Duration\" data-toc-modified-id=\"Duration-2\"><span class=\"toc-item-num\">2&nbsp;&nbsp;</span>Duration</a></span><ul class=\"toc-item\"><li><span><a href=\"#The-Duration-of-Zero-Investment-Portfolios:-Dollar-Duration\" data-toc-modified-id=\"The-Duration-of-Zero-Investment-Portfolios:-Dollar-Duration-2.1\"><span class=\"toc-item-num\">2.1&nbsp;&nbsp;</span>The Duration of Zero Investment Portfolios: Dollar Duration</a></span></li><li><span><a href=\"#Duration-and-Value-At-Risk\" data-toc-modified-id=\"Duration-and-Value-At-Risk-2.2\"><span class=\"toc-item-num\">2.2&nbsp;&nbsp;</span>Duration and Value At Risk</a></span></li></ul></li></ul></div>"
   ]
  },
  {
   "cell_type": "markdown",
   "metadata": {},
   "source": [
    "# Basics Of Interest Rate Risk Management"
   ]
  },
  {
   "cell_type": "markdown",
   "metadata": {},
   "source": [
    "### The Varriation in Interest Rates"
   ]
  },
  {
   "cell_type": "markdown",
   "metadata": {},
   "source": [
    "**Definition 3.1** The level of interest rates is the average yield across maturities.\n",
    "\n",
    "As the level of interest rates changes over time, banks, bond portfolio managers and\n",
    "corporations worry about the impact that the swings in interest rates have on the value of\n",
    "their assets and liabilities."
   ]
  },
  {
   "cell_type": "markdown",
   "metadata": {},
   "source": [
    "<img src=\"Images\\YieldsSeries.JPG\"> "
   ]
  },
  {
   "cell_type": "markdown",
   "metadata": {},
   "source": [
    "### Duration"
   ]
  },
  {
   "cell_type": "markdown",
   "metadata": {},
   "source": [
    "**Definition 3.2** The duration of a security with price $P$ is the (negative of the) percent sensitivity of the price P to a small parallel shift in the level of interest rates. That is, let $r(t,T)$ be the continuously compounded term structure of interest rates at time t. Consider a uniform shift of size $dr$ across rates that brings rates to $\\bar{r}(t, T)$, given by\n",
    "\n",
    "$$ r(t,T) \\rightarrow \\bar{r}(t, T) = r(t, T) + dr $$\n",
    "\n",
    "Let the price of the security move by $dP$ as a consequence of the shift:\n",
    "\n",
    "$$ P \\rightarrow \\bar{P} = P+dP $$\n",
    "\n",
    "The duration of the asset is then defined as:\n",
    "\n",
    "$$ D_P = -\\frac{1}{P}\\frac{dP}{dr} $$\n",
    "\n",
    "The notion of duration then measures the impact that such a uniform\n",
    "change on the yield curve has on the price of the security P.\n",
    "\n",
    "**Fact 3.1** Given a duration $D_P$ of a security with price $P$, a uniform change in the level of interest rates brings about a change in the value of:\n",
    "\n",
    "$$ dP = -D_P Pdr $$\n",
    "\n",
    "**Fact 3.2** Let $P_z(r, t, T )$ be the price of a zero coupon bond at time $t$ with maturity $T$ and continuously compounded interest rate $r$. The first derivative of $P_z(r, t, T )$ with respect to $r$ is:\n",
    "\n",
    "$$ \\frac{dP_z}{dr} = 100\\bigg[\\frac{d(e^{-r(T-t)})}{dr}\\bigg] = -(T-t)P_z(r,t,T) $$\n",
    "\n",
    "\n",
    "Visually, the first derivative represents the slope of the curve $P_z(r,t,T)$.\n",
    "Hence, for a zero coupon bond, the Duration is given by: \n",
    "\n",
    "$$ D_{z,T} = T-t $$\n",
    "\n",
    "That is, for a zero coupon bond, the duration is equal to the time to maturity."
   ]
  },
  {
   "cell_type": "markdown",
   "metadata": {},
   "source": [
    "<img src=\"Images\\DurationPlot.JPG\"> "
   ]
  },
  {
   "cell_type": "markdown",
   "metadata": {},
   "source": [
    "Fact 3.3 The duration of portfolio of n securities is given by\n",
    "\n",
    "$$ D_W = \\sum_{i=1}^n w_i D_i $$\n",
    "\n",
    "Where $w_i$ is the fraction of the portfolio invested in security i, and $D_i$ is the duration of security $i$. "
   ]
  },
  {
   "cell_type": "markdown",
   "metadata": {},
   "source": [
    "The duration of a coupon bond can be derived as follows: \n",
    "\n",
    "$$ P_c(0, T_n) = \\sum_{i=1}^{n-1} \\frac{c}{2}P_z(0,T_i) + (1+\\frac{c}{2})P_z(0, T_n) $$\n",
    "\n",
    "Define the weights: \n",
    "\n",
    "$$ w_i = \\frac{c/2 P_z(0,T_i)}{P_c(0, T_n)} $$\n",
    "\n",
    "$$ w_n = \\frac{(1+c/2)P_z(0, T_n)}{P_c(0,T_n)}$$\n",
    "\n",
    "Then the Duration of a coupon bond is: \n",
    "\n",
    "$$ D_c = \\sum_{i=1}^n w_iD_{z,T_i} = \\sum_{i=1}^n w_i T_i $$\n",
    "\n",
    "That is, the duration of a coupon bond is a weighted average of coupon payment times $T_i$ ."
   ]
  },
  {
   "cell_type": "markdown",
   "metadata": {},
   "source": [
    "It is important to realize that the duration of a coupon bond depends crucially on the level of the coupon rate. As the coupon rate increases, the duration is lower."
   ]
  },
  {
   "cell_type": "markdown",
   "metadata": {},
   "source": [
    "1. Lower Average Time of Cash Flow Payments: The higher the coupon, the larger are the intermediate coupons relative to the last one (in 10 years). Thus, the average time of coupon payments gets closer to today.\n",
    "\n",
    "\n",
    "2. Lower Sensitivity to Interest Rates: The higher the coupon rate, the larger are cash flows in the near future compared to the long-term future. Cash flows that arrive sooner rather than later are less sensitive to changes in interest rates (for instance, a cash flow arriving tomorrow has no sensitivity to interest rates). Thus, an increase in coupon rate implies an overall lower sensitivity to changes in discount rates."
   ]
  },
  {
   "cell_type": "markdown",
   "metadata": {},
   "source": [
    "Traditionally, however, the duration is not defined against the continuously compounded interest rate but rather against the semi-annually compounded yield to maturity. In this case, the definition of the modified duration as the (negative of the) sensitivity of prices to changes in interest rates does not correspond exactly to the simple formulas derived earlier, and a small adjustment is needed. In particular, consider a security with\n",
    "yield to maturity y. Recall that by definition of yield to\n",
    "maturity, the price of the coupon bond on a coupon date can be written as:\n",
    "\n",
    "$$ P_C(0, T) = \\sum_{j=1}^n \\frac{100 c/2}{(1+y/2)^{2T_j}} + \\frac{100}{(1+y/2)^{2T_n}} $$\n",
    "\n",
    "A little algebra shows that the modified duration (MD) of this coupon bond, when defined against the yield to maturity y, is given by:\n",
    "\n",
    "$$ MD = -\\frac{1}{P}\\frac{dP}{dy} = \\frac{1}{(1+y/2)}\\sum_{j=1}^n w_j T_j$$\n",
    "\n",
    "Where:\n",
    "\n",
    "$$ w_j = \\frac{1}{P_c(0, T)}\\bigg(\\frac{100 c/2}{(1+y/2)^{2T_j}}\\bigg) $$\n",
    "\n",
    "$$ w_n = \\frac{1}{P_C(0,T)} \\bigg( \\frac{100 (c/2+1)}{(1+y/2)^{2T_n}} \\bigg) $$\n",
    "\n",
    "In other words, when we use the semi-annual compounded yield to maturity y to define the modified duration, then the modified duration of a fixed rate bond can be computed as the weighted average of cash flow maturities times an adjustment given by $1/(1+y/2)$. The weighted average of cash flow maturities in Equation 3.19 is called the **Macaulay duration**."
   ]
  },
  {
   "cell_type": "markdown",
   "metadata": {},
   "source": [
    "#### The Duration of Zero Investment Portfolios: Dollar Duration\n",
    "\n",
    "The definition of duration in Equation 3.1 implicitly implies that the security, or the\n",
    "portfolio, has nonzero value. However, in many interesting cases involving no arbitrage\n",
    "strategies, the security or the portfolio may have a value of exactly zero. In this case, we\n",
    "resort to the dollar duration:"
   ]
  },
  {
   "cell_type": "markdown",
   "metadata": {},
   "source": [
    "**Definition 3.4** The dollar duration $D^{$}$ of a security P is defined by:\n",
    "\n",
    "$$ D^{$}_P = -\\frac{dP}{dr} $$\n",
    "\n",
    "That is, the dollar duration corresponds to the (negative of the) sensitivity of the price P to changes in the level of interest rate r. Since dP is the change in the price of the security, in dollars, the name dollar duration follows. \n",
    "\n",
    "**Fact 3.4** For a nonzero valued security or portfolio with price P, the relation between duration and dollar duration is\n",
    "\n",
    "$$ D_P^{\\$} = P D_P  $$\n",
    "\n",
    "In this case, the relation between the dollar duration of the portfolio and the dollar\n",
    "duration of its individual components is given by the sum of the dollar durations:\n",
    "\n",
    "**Fact 3.5** The dollar duration of portfolio of n securities, is given by:\n",
    "\n",
    "$$ D^{\\$}_W  = \\sum_{i=1}^n N_iD_i^{\\$} $$ \n",
    "\n",
    "The dollar losses due to a basis point increase in the level of interest rates, is a common measure of interest rate risk. Traders refer to it as the “price value of a basis point,” or PVBP, or PV01, or DV01:\n",
    "\n",
    "**Definition 3.5** The price value of a basis point PV01 of a security withprice P is defined as\n",
    "\n",
    "$$ PV01 = -D_P^{\\$} dr $$"
   ]
  },
  {
   "cell_type": "markdown",
   "metadata": {},
   "source": [
    "#### Duration and Value At Risk"
   ]
  },
  {
   "cell_type": "markdown",
   "metadata": {},
   "source": [
    "Value-at-Risk (VaR) is a risk measure that attempts to quantify the amount of risk in a\n",
    "portfolio. In brief, VaR answers the following question: With 95% probability, what is the\n",
    "maximum portfolio loss that we can expect within a given horizon, such as a day, a week\n",
    "or a month? Methodologies for the computation of VaR are many and range from highly\n",
    "complex to fairly simple. In this section we discuss two methodologies that are based on\n",
    "the concept of duration: The historical distribution approach and the normal distribution\n",
    "approach.\n",
    "\n",
    "**Definition 3.6**\n",
    "Let $\\alpha$ be a percentile (e.g. 5%) and $T$ a given horizon. The $(100−\\alpha)\\%T$ **Value-at-Risk**\n",
    "of a portfolio $P$ is the maximum loss the portfolio can suffer over the horizon $T$ with $\\alpha\\%$\n",
    "probability. Let $L_T = −(P_T − P_0 )$ denote the loss of a portfolio over the\n",
    "horizon $T$ (a profit if negative). The $VaR$ is that number such that:\n",
    "\n",
    "$$ Prob(L_T > VaR) = \\alpha \\% $$\n",
    "\n",
    "The $VaR$ measure is based on the volatility of the underlying assets in the portfolio. For\n",
    "bond portfolios, the volatility is determined by movements in the interest rates. In fact,\n",
    "through duration, we can estimate the sensitivity of a portfolio to fluctuations in the interest\n",
    "rates.  Recall that:\n",
    "\n",
    "$$ dP = -D_P P dr $$\n",
    "\n",
    "Given the value of the portfolio $P$ and its duration $D_P$ , we can transform the probability\n",
    "distribution of interest rate changes dr into the probability distribution of portfolio changes\n",
    "$dP$, and from the latter, we can compute the portfolio potential losses. The 95% VaR\n",
    "corresponds to the 5% worst case of distribution of $dP$. A simple example is given by the\n",
    "case in which dr has a normal distribution:\n",
    "\n",
    "**Fact 3.6** Let $dr$ have a normal distribution with mean $\\mu$ and standard deviation $\\sigma$. Then dP has a normal distribution with mean and standard deviation given by:\n",
    "\n",
    "$$ \\mu_P = -D_P P \\mu  $$\n",
    "$$ \\sigma_P = D_P P \\sigma$$\n",
    "\n",
    "The 95% VaR is then given by: \n",
    "\n",
    "$$ VaR_{95\\%} = - (\\mu_P - 1.645 \\sigma_P) $$\n",
    "\n",
    "where $−1.645$ corresponds to the $5^{th}$ percentile of the standard normal distribution, that\n",
    "is, if $x ∼ N(0, 1)$ then $Prob(x < −1.645) = 5\\%$. The 99% VaR is computed the same way, except that the number “1.645” is substituted by “2.326.”\n",
    "\n",
    "This result of course relies on Equation 3.28, which is only an approximation. If dr is not\n",
    "normal, then the equation does not hold. The historical changes distribution can be used instead of the normal distribution approach. "
   ]
  }
 ],
 "metadata": {
  "kernelspec": {
   "display_name": "Python [conda env:root] *",
   "language": "python",
   "name": "conda-root-py"
  },
  "language_info": {
   "codemirror_mode": {
    "name": "ipython",
    "version": 3
   },
   "file_extension": ".py",
   "mimetype": "text/x-python",
   "name": "python",
   "nbconvert_exporter": "python",
   "pygments_lexer": "ipython3",
   "version": "3.7.6"
  },
  "latex_envs": {
   "LaTeX_envs_menu_present": true,
   "autoclose": false,
   "autocomplete": true,
   "bibliofile": "biblio.bib",
   "cite_by": "apalike",
   "current_citInitial": 1,
   "eqLabelWithNumbers": true,
   "eqNumInitial": 1,
   "hotkeys": {
    "equation": "Ctrl-E",
    "itemize": "Ctrl-I"
   },
   "labels_anchors": false,
   "latex_user_defs": false,
   "report_style_numbering": false,
   "user_envs_cfg": false
  },
  "toc": {
   "base_numbering": 1,
   "nav_menu": {},
   "number_sections": true,
   "sideBar": true,
   "skip_h1_title": true,
   "title_cell": "Table of Contents",
   "title_sidebar": "Contents",
   "toc_cell": true,
   "toc_position": {},
   "toc_section_display": true,
   "toc_window_display": false
  }
 },
 "nbformat": 4,
 "nbformat_minor": 4
}
