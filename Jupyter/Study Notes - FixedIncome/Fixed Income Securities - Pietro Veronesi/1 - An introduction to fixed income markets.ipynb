{
 "cells": [
  {
   "cell_type": "markdown",
   "metadata": {
    "toc": true
   },
   "source": [
    "<h1>Table of Contents<span class=\"tocSkip\"></span></h1>\n",
    "<div class=\"toc\"><ul class=\"toc-item\"><li><span><a href=\"#An-introduction-to-fixed-income-markets\" data-toc-modified-id=\"An-introduction-to-fixed-income-markets-1\"><span class=\"toc-item-num\">1&nbsp;&nbsp;</span>An introduction to fixed income markets</a></span><ul class=\"toc-item\"><li><span><a href=\"#No-Arbitrage-and-the-Law-of-One-Price\" data-toc-modified-id=\"No-Arbitrage-and-the-Law-of-One-Price-1.1\"><span class=\"toc-item-num\">1.1&nbsp;&nbsp;</span>No Arbitrage and the Law of One Price</a></span></li><li><span><a href=\"#The-Government-Debt-Market\" data-toc-modified-id=\"The-Government-Debt-Market-1.2\"><span class=\"toc-item-num\">1.2&nbsp;&nbsp;</span>The Government Debt Market</a></span><ul class=\"toc-item\"><li><span><a href=\"#Zero-Coupon-Bonds\" data-toc-modified-id=\"Zero-Coupon-Bonds-1.2.1\"><span class=\"toc-item-num\">1.2.1&nbsp;&nbsp;</span>Zero Coupon Bonds</a></span></li><li><span><a href=\"#Floating-Rate-Coupon-Bonds\" data-toc-modified-id=\"Floating-Rate-Coupon-Bonds-1.2.2\"><span class=\"toc-item-num\">1.2.2&nbsp;&nbsp;</span>Floating Rate Coupon Bonds</a></span></li><li><span><a href=\"#The-Municipal-Debt-Market\" data-toc-modified-id=\"The-Municipal-Debt-Market-1.2.3\"><span class=\"toc-item-num\">1.2.3&nbsp;&nbsp;</span>The Municipal Debt Market</a></span></li></ul></li><li><span><a href=\"#The-Money-Market\" data-toc-modified-id=\"The-Money-Market-1.3\"><span class=\"toc-item-num\">1.3&nbsp;&nbsp;</span>The Money Market</a></span><ul class=\"toc-item\"><li><span><a href=\"#Federal-Funds-Rate\" data-toc-modified-id=\"Federal-Funds-Rate-1.3.1\"><span class=\"toc-item-num\">1.3.1&nbsp;&nbsp;</span>Federal Funds Rate</a></span></li><li><span><a href=\"#EuroDollar-Rate\" data-toc-modified-id=\"EuroDollar-Rate-1.3.2\"><span class=\"toc-item-num\">1.3.2&nbsp;&nbsp;</span>EuroDollar Rate</a></span></li><li><span><a href=\"#LIBOR\" data-toc-modified-id=\"LIBOR-1.3.3\"><span class=\"toc-item-num\">1.3.3&nbsp;&nbsp;</span>LIBOR</a></span></li></ul></li><li><span><a href=\"#The-REPO-Market\" data-toc-modified-id=\"The-REPO-Market-1.4\"><span class=\"toc-item-num\">1.4&nbsp;&nbsp;</span>The REPO Market</a></span></li><li><span><a href=\"#The-Mortgage-backet-securities-and-asset-backed-securities.\" data-toc-modified-id=\"The-Mortgage-backet-securities-and-asset-backed-securities.-1.5\"><span class=\"toc-item-num\">1.5&nbsp;&nbsp;</span>The Mortgage backet securities and asset-backed securities.</a></span></li><li><span><a href=\"#The-derivatives-market\" data-toc-modified-id=\"The-derivatives-market-1.6\"><span class=\"toc-item-num\">1.6&nbsp;&nbsp;</span>The derivatives market</a></span><ul class=\"toc-item\"><li><span><a href=\"#Swaps\" data-toc-modified-id=\"Swaps-1.6.1\"><span class=\"toc-item-num\">1.6.1&nbsp;&nbsp;</span>Swaps</a></span></li><li><span><a href=\"#Futures-And-Forwards\" data-toc-modified-id=\"Futures-And-Forwards-1.6.2\"><span class=\"toc-item-num\">1.6.2&nbsp;&nbsp;</span>Futures And Forwards</a></span></li><li><span><a href=\"#Options\" data-toc-modified-id=\"Options-1.6.3\"><span class=\"toc-item-num\">1.6.3&nbsp;&nbsp;</span>Options</a></span></li></ul></li></ul></li></ul></div>"
   ]
  },
  {
   "cell_type": "markdown",
   "metadata": {},
   "source": [
    "## An introduction to fixed income markets"
   ]
  },
  {
   "cell_type": "markdown",
   "metadata": {},
   "source": [
    "Fixed income markets are very large and still\n",
    "growing. Moreover, there is not a dominant market: What we called a derivative market\n",
    "in the past is now larger in sheer size than the primary market. The big question is what is\n",
    "keeping the prices of the interest rate instruments tied to each other. That is, all of these\n",
    "instruments are highly correlated. For instance, if the Federal Reserve drops the Fed funds\n",
    "rate, then we may expect all of the short-term interest rates to fall. How do these rates move\n",
    "together? The answer is no arbitrage, that is, the possibility does not exist for arbitrageurs\n",
    "to take large positions in different securities whenever the prices across markets do not line\n",
    "up.\n",
    "\n",
    "The complexity of fixed income markets is also extraordinary. The number of securities described in this table is daunting:\n",
    "\n",
    "1. Federal funds rate quotes;\n",
    "2. U.S. Treasury bill prices and yields at various maturities;\n",
    "3. Eurodollar deposit rates at various maturities;\n",
    "4. Repo and reverse repo rates;\n",
    "5. U.S. Treasury bond yields and prices with various maturities;\n",
    "6. Commercial paper quotes;\n",
    "7. 90-day Eurodollar futures for various maturities;\n",
    "8. Federal funds futures for various maturities;\n",
    "9. LIBOR fixes;\n",
    "10. Foreign exchange rates;\n",
    "11. 30-years mortgage backed securities;\n",
    "12. 10-year Treasury note futures;\n",
    "13. Swap rates for various maturities;\n",
    "14. Other key rates, such as the prime.\n",
    "\n",
    "How do all these market rates move together?\n",
    "The notion is that these quantities are all highly correlated with the same events. For\n",
    "instance, if there are worries of an increase in future inflation, we can expect the Federal\n",
    "Reserve to increase the target Fed Funds rate (see Chapter 7). In turn, this expectation\n",
    "as well as the rules of no arbitrage, discussed below, have an impact on other short-term\n",
    "borrowing rates, such as the short-term LIBOR, the short-term Eurodollar rates and so on."
   ]
  },
  {
   "cell_type": "markdown",
   "metadata": {},
   "source": [
    "### No Arbitrage and the Law of One Price"
   ]
  },
  {
   "cell_type": "markdown",
   "metadata": {},
   "source": [
    "At the source of the ripple-through effect from one market to the next is the notion of no arbitrage. In its pure form, an arbitrage opportunity is defined as follows:\n",
    "\n",
    "**Definition:** An arbitrage opportunity is a feasible trading strategy involving two or more securities with either of the following characteristics:\n",
    "1. It does not cost anything at initiation, and it generates a sure positive profit by a certain date in the future;\n",
    "2. It generates a positive profit at initiation, and it has a sure nonnegative payoff by a certain date in the future.\n",
    "\n",
    "The **no arbitrage** condition requires that no arbitrage opportunities exist.\n",
    "\n",
    "these rules of no arbitrage allow us to both compute the fair\n",
    "value of fixed income instruments and to investigate their relative prices. Just as important,\n",
    "we will focus on the impact that no arbitrage has on the risk of fixed income instruments\n",
    "and therefore their risk management.\n",
    "\n",
    "**Fact 1.1**: The law of one price establishes that securities with identical payoffs should\n",
    "have the same price.\n",
    "\n",
    "the law of one price does not hold for some securities, then an arbitrage opportunity\n",
    "exists. Indeed, the logic is the same as the one of the previous example: if two securities\n",
    "have the same cash flows in the future but trade at different prices today, then an arbitrageur\n",
    "could buy the underpriced security and sell the overpriced one, realizing a profit today."
   ]
  },
  {
   "cell_type": "markdown",
   "metadata": {},
   "source": [
    "### The Government Debt Market"
   ]
  },
  {
   "cell_type": "markdown",
   "metadata": {},
   "source": [
    "Essentially all countries issue debt to finance their operations. U.S. government debt has\n",
    "always occupied a special place in fixed income markets, mainly because it is perceived to\n",
    "have an extremely low probability of default. That is, investing in U.S. Treasury securities\n",
    "is considered “safe,” as the government will repay its debt to investor. The quotation marks\n",
    "around the word “safe” underly an important caveat. The rationale behind its default safety is that these\n",
    "bonds are backed by the ability of the U.S. government to levy taxes on its citizens in the\n",
    "future to **pay the debt back**.\n",
    "\n",
    "However, an investment in a U.S. Treasury bond may not be safe in terms of its **return\n",
    "on investment** over a short period of time. In addition to the potential capital losses in the bond price during a shorter period of time than the bond’s maturity, an investment in U.S. Treasury securities entails additional\n",
    "**sources of risk**. \n",
    "\n",
    "The first is that most of the Treasury securities are nominal securities,\n",
    "that is, they pay coupons and principal in dollars. Therefore, if between the purchase of the bond and its maturity (e.g., 30 years) the U.S. enters a period of **sustained inflation**,\n",
    "**the effective value of coupons and principal decreases**, as investors cannot purchase as\n",
    "many consumption goods. This inflation risk must be taken into account in the analysis of\n",
    "Treasury securities. \n",
    "\n",
    "A related risk concerns the fact that the coupon and principal payments\n",
    "are in U.S. dollars, which may entail a **currency risk** for an overseas investor. For instance,\n",
    "European investors who purchased safe U.S. Treasury notes in 2005 have been hurt by the\n",
    "devaluation of the dollar with respect to the euro between 2006 and 2008.\n",
    "\n",
    "The U.S. government issues various types of securities. \n",
    "\n",
    "* **Treasury bills (T-bills)** are short-term debt instruments, with maturity up to one year.2 They do not pay any cash flow over time, only the principal at maturity. Treasury bills are issued very frequently, typically every week for bills up to six months, and every four weeks for one-year bills.\n",
    "\n",
    "\n",
    "* **Treasury notes (T-notes)** are medium-long term debt instruments, with maturity up to 10 years. These notes carry a fixed coupon that is paid semi-annually up to the maturity of the note. They are issued every month, except the ten-year note, that is issued less frequently.\n",
    "\n",
    "\n",
    "* **Treasury bonds (T-bonds)** are longer-term debt instruments with maturity of 30 years at issuance. As with Treasury notes, bonds also carry a semi-annual coupon. The Treasury issues these long-term bonds every six months. \n",
    "\n",
    "\n",
    "* **Treasury Inflation Protected Securities** (TIPS) that is, securities that are indexed to inflation. Investors in T-notes and T-bonds are subject to inflation risk: Because the payment of coupons and final principal is in nominal terms (i.e., simply U.S. dollars), if inflation increases substantially during the life of the debt instruments, these sums of money will be able to buy less of consumer goods. The TIPS offer protection to investors against this possibility: Because the principal is adjusted for inflation, higher inflation translates into both a higher final payoff at maturity of the bond, and higher coupons as well, since the coupon is defined as a fixed percentage of current principal (which increases with inflation). TIPS are issued with maturities of 5, 10 and 20 years."
   ]
  },
  {
   "cell_type": "markdown",
   "metadata": {},
   "source": [
    "#### Zero Coupon Bonds"
   ]
  },
  {
   "cell_type": "markdown",
   "metadata": {},
   "source": [
    "Zero coupon bonds are securities that pay only the principal at maturity. Other zero coupon bonds are available in the U.S.\n",
    "market through the STRIPS program. STRIPS (Separate Trading of Registered Interest and\n",
    "Principal Securities) are zero coupon bonds created from available U.S. Treasury notes and\n",
    "bonds by splitting the principal and each of the coupons from the bond. The U.S. Treasury\n",
    "does not issue these securities directly to investors, but investors can purchase them and\n",
    "hold them through financial institutions and government securities brokers and dealers."
   ]
  },
  {
   "cell_type": "markdown",
   "metadata": {},
   "source": [
    "#### Floating Rate Coupon Bonds"
   ]
  },
  {
   "cell_type": "markdown",
   "metadata": {},
   "source": [
    "The bonds issued by the U.S. government have a fixed coupon rate. A floating rate coupon\n",
    "bond is like a standard coupon bond, but its coupon is indexed to some other short-term\n",
    "interest rate, which changes over time. While the U.S. government does not issue floating\n",
    "rate bonds, other governments do. For instance, Italy issues the CCT bond, which is an\n",
    "Italian Treasury debt security whose coupon rate is indexed to the six month rate of Italian 6-month T-bills (BOT). In addition, interest rate floaters are issued by financial institutions and\n",
    "corporations, as well as government agencies,"
   ]
  },
  {
   "cell_type": "markdown",
   "metadata": {},
   "source": [
    "#### The Municipal Debt Market"
   ]
  },
  {
   "cell_type": "markdown",
   "metadata": {},
   "source": [
    "The U.S. federal government issues debt to finance federal government expenses, such as\n",
    "health care and military expenses. Individual municipalities also issue debt independently\n",
    "to finance local projects."
   ]
  },
  {
   "cell_type": "markdown",
   "metadata": {},
   "source": [
    "### The Money Market"
   ]
  },
  {
   "cell_type": "markdown",
   "metadata": {},
   "source": [
    "When we speak of the money market, we refer to the market for short-term borrowing and\n",
    "lending. Banks and financial institutions have various means of borrowing and lending at\n",
    "any point in time."
   ]
  },
  {
   "cell_type": "markdown",
   "metadata": {},
   "source": [
    "#### Federal Funds Rate"
   ]
  },
  {
   "cell_type": "markdown",
   "metadata": {},
   "source": [
    "Banks and other financial institutions must keep some amount of capital within the Federal\n",
    "Reserve. Balances at the Federal Reserve yield a small rate of return, which was in fact\n",
    "zero until September 2008. It is in the interest of banks to maintain their reserves as close to\n",
    "the limit as possible. Banks with a reserve surplus may then lend some of their reserves to\n",
    "banks with a reserve deficit. The effective Federal funds rate is the size-weighted average\n",
    "rate of interest that banks charge to each other to lend or borrow reserves at the Federal\n",
    "Reserve."
   ]
  },
  {
   "cell_type": "markdown",
   "metadata": {},
   "source": [
    "#### EuroDollar Rate"
   ]
  },
  {
   "cell_type": "markdown",
   "metadata": {},
   "source": [
    "The Eurodollar rate is the rate of interest on a dollar deposit in a European-based bank.\n",
    "These are short-term deposits, ranging from 3 months to one year. In particular, the 90-day\n",
    "Eurodollar rate has become a standard reference to gauge the conditions of the interbank\n",
    "market. For instance, the market for Eurodollar futures and options, financial derivatives\n",
    "traded at the Chicago Mercantile Exchange that allow financial institutions to bet on or\n",
    "hedge against the future evolution of the Eurodollar rate (see Chapter 6), is among the\n",
    "largest and most liquid derivative markets in the world."
   ]
  },
  {
   "cell_type": "markdown",
   "metadata": {},
   "source": [
    "#### LIBOR"
   ]
  },
  {
   "cell_type": "markdown",
   "metadata": {},
   "source": [
    "LIBOR stands for London Interbank Offer Rate. The British Bankers Association publishes daily the LIBOR rates. These rates correspond to the average interest rate that banks charge to each other for short-term uncollateralized borrowing in the London market. The rates available are very similar to the Eurodollar rates. LIBOR is however one of the most important benchmark rates, used often as the reference index in the large over-the-counter derivatives market."
   ]
  },
  {
   "cell_type": "markdown",
   "metadata": {},
   "source": [
    "### The REPO Market"
   ]
  },
  {
   "cell_type": "markdown",
   "metadata": {},
   "source": [
    "The\n",
    "repo market plays an important role in the fixed income industry, as it is used by traders\n",
    "to borrow and lend cash on a collateralized basis. Because borrowing is collateralized, it\n",
    "is considered a safer way to lend cash, and this contributed to its growth over the years,\n",
    "making the repo market one of the most important sources of financing for traders.\n",
    "\n",
    "**Definition 1.2** A repurchase agreement (repo) is an agreement to sell some securities to\n",
    "another party and buy them back at a fixed date and for a fixed amount. The price at which\n",
    "the security is bought back is greater than the selling price and the difference implies an\n",
    "interest rate called the repo rate.\n",
    "\n",
    "A reverse repo is the opposite transaction, namely, it is the purchase of the security for cash with the agreement to sell it back to the original owner at a predetermined price, determined, once again, by the repo rate. \n",
    "\n",
    "The bestway to understand a repo transaction is to consider it as collateralized borrowing. A trader entering into a repo transaction with a repo dealer is borrowing cash (the sale price) in exchange for the security, which is held hostage by the repo dealer. If at the end of the repo term the trader were to default, the repo dealer could sell the security and be made whole.\n",
    "\n",
    "Other important definitions and characteristics of repo markets are as follows:\n",
    "\n",
    "1. **General Collateral Rate (GCR):** This is the repo rate on most Treasury securities, such as the off-the-run Treasuries. Because most Treasury securities have similar characteristics in terms of liquidity, market participants require the same interest rate for collateralized borrowing.\n",
    "\n",
    "\n",
    "2. **Special Repo Rate:** At times, one particular Treasury security is in high demand and hence the repo rate on that security falls to a level substantially below the GCR. As an example, on-the-run Treasury securities typically are “on special,” in the sense that the repo rate charged for collateralized borrowing is smaller than the GCR."
   ]
  },
  {
   "cell_type": "markdown",
   "metadata": {},
   "source": [
    "### The Mortgage backet securities and asset-backed securities. "
   ]
  },
  {
   "cell_type": "markdown",
   "metadata": {},
   "source": [
    "When a bank issues a mortgage\n",
    "to a homeowner, the mortgage rests on the asset side of the bank’s balance sheet. The mortgage is a fixed income instrument: It is a promise from the homeowner to make certain cash payments in the future. These cash payments are affected by numerous events, which make them risky for the bank.  Mortgage backed securities allow a bank to diversify this risk. The idea is to resell its\n",
    "mortgages, now on the asset side of the bank, for cash. In order to improve the liquidity\n",
    "and to mitigate credit risk, the market evolved into one in which many similar mortgages\n",
    "are pooled together to form a large collateral of assets. These assets, which have better\n",
    "characteristics in terms of diversification of risk, make up the collateral on debt securities\n",
    "issued to individual investors, called mortgage backed securities. In summary, an investor\n",
    "in a mortgage backed security obtains a legal claim to the cash flows (coupons) that are\n",
    "paid by the original homeowner. \n",
    "\n",
    "Similarly to the mortgage backed securities market, the asset backed securities market\n",
    "involves the issuance of debt instruments to investors, collateralized by various types of\n",
    "loans, such as auto loans, credit cards, and the like."
   ]
  },
  {
   "cell_type": "markdown",
   "metadata": {},
   "source": [
    "### The derivatives market"
   ]
  },
  {
   "cell_type": "markdown",
   "metadata": {},
   "source": [
    "The interest rate derivatives market is huge and it has been growing steadily for the past three decades,The swap contract is the largest market of all."
   ]
  },
  {
   "cell_type": "markdown",
   "metadata": {},
   "source": [
    "#### Swaps\n",
    "\n",
    "Interest rate swap contracts were introduced in the early 1980s to take advantage of some\n",
    "apparent arbitrage opportunity that was surfacing in the corporate bond market. The early swaps managed to arbitrage some relative price discrepancy that existed\n",
    "between floating rates and fixed rates. The notion was that if a spread exists because\n",
    "of the risk of default, it should be the same across floating and fixed coupon bonds.\n",
    "The difference in spreads between the two firms across asset classes, floating and\n",
    "fixed coupon bonds, generates the possibility of a trade. The initial spur to swap trading was due to exploit arbitrage opportunities. At that time,\n",
    "investment bankswould also reap substantial profits from relatively large spreads. However, the growth in the swap market came about because of the extreme usefulness of swaps as a convenient means\n",
    "for cash management and risk management. Financial institutions, corporations, and even\n",
    "governments use swaps (a) to change the sensitivity of their cash flows to fluctuations in\n",
    "interest rates; (b) to alter the timing of their payments and revenues; (c) or even simply for\n",
    "investment purposes within complex trading strategies."
   ]
  },
  {
   "cell_type": "markdown",
   "metadata": {},
   "source": [
    "#### Futures And Forwards\n",
    "\n",
    "Futures contracts, discussed in detail in Chapter 6, are contracts according to which two counterparties decide to exchange a security, or cash, or a commodity, at a prespecified time in the future for a price agreed upon today. The futures market thus provides a convenient way for market participants to lock-in a future interest rate.\n",
    "\n",
    "Forward contracts are similar to futures contracts, in that two counterparties agree today that they will exchange a security (or cash) in the future at a price that is decided today. Just like futures contracts, forward contracts allow institutions to lock in interest rates for the future. Unlike futures, forward contracts are not traded on regulated exchanges but only on the over-the-counter market."
   ]
  },
  {
   "cell_type": "markdown",
   "metadata": {},
   "source": [
    "#### Options"
   ]
  },
  {
   "cell_type": "markdown",
   "metadata": {},
   "source": [
    "Options contracts are a vital part of the fixed income market. In addition, options are implicitly embedded in several other securities, such as callable bonds, mortgage backed securities, and other types of structured notes.\n",
    "\n",
    "Intuitively, an option is the financial equivalent of an insurance contract: It is a contract\n",
    "according to which the option buyer, who purchases the insurance, receives a payment from\n",
    "the option’s seller, who sold the insurance, only if some interest rate scenario occurs in the\n",
    "future.\n",
    "\n",
    "For instance, a corporation that issues a floating rate bond – a bond whose coupon\n",
    "is tied to the level of a short-term floating rate – may be worried about an interest rate hike\n",
    "in the future, a scenario that may drain too much financial resources from the coporation.\n",
    "The corporation may purchase insurance against such scenarios, by purchasing a financial\n",
    "option, called a cap, that pays only if the floating reference interest rate increases above\n",
    "some cutoff point, called the strike rate. This contract would be a good hedge for the firm\n",
    "against interest rate hikes, because, if the interest rate does increase above the strike rate,\n",
    "then the option’s seller must pay the corporation a contractually agreed-upon cash flow,\n",
    "which the corporation can use to pay its own liability to its bond holders."
   ]
  }
 ],
 "metadata": {
  "kernelspec": {
   "display_name": "Python [conda env:root] *",
   "language": "python",
   "name": "conda-root-py"
  },
  "language_info": {
   "codemirror_mode": {
    "name": "ipython",
    "version": 3
   },
   "file_extension": ".py",
   "mimetype": "text/x-python",
   "name": "python",
   "nbconvert_exporter": "python",
   "pygments_lexer": "ipython3",
   "version": "3.7.6"
  },
  "latex_envs": {
   "LaTeX_envs_menu_present": true,
   "autoclose": false,
   "autocomplete": true,
   "bibliofile": "biblio.bib",
   "cite_by": "apalike",
   "current_citInitial": 1,
   "eqLabelWithNumbers": true,
   "eqNumInitial": 1,
   "hotkeys": {
    "equation": "Ctrl-E",
    "itemize": "Ctrl-I"
   },
   "labels_anchors": false,
   "latex_user_defs": false,
   "report_style_numbering": false,
   "user_envs_cfg": false
  },
  "toc": {
   "base_numbering": 1,
   "nav_menu": {},
   "number_sections": true,
   "sideBar": true,
   "skip_h1_title": true,
   "title_cell": "Table of Contents",
   "title_sidebar": "Contents",
   "toc_cell": true,
   "toc_position": {},
   "toc_section_display": true,
   "toc_window_display": false
  }
 },
 "nbformat": 4,
 "nbformat_minor": 4
}
