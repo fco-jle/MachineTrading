{
 "cells": [
  {
   "cell_type": "markdown",
   "metadata": {
    "toc": true
   },
   "source": [
    "<h1>Table of Contents<span class=\"tocSkip\"></span></h1>\n",
    "<div class=\"toc\"><ul class=\"toc-item\"><li><span><a href=\"#Interest-Rates-And-Bonds\" data-toc-modified-id=\"Interest-Rates-And-Bonds-1\"><span class=\"toc-item-num\">1&nbsp;&nbsp;</span>Interest Rates And Bonds</a></span><ul class=\"toc-item\"><li><span><a href=\"#Interest-Rates\" data-toc-modified-id=\"Interest-Rates-1.1\"><span class=\"toc-item-num\">1.1&nbsp;&nbsp;</span>Interest Rates</a></span><ul class=\"toc-item\"><li><span><a href=\"#Simple-Interest\" data-toc-modified-id=\"Simple-Interest-1.1.1\"><span class=\"toc-item-num\">1.1.1&nbsp;&nbsp;</span>Simple Interest</a></span></li><li><span><a href=\"#Compound-Interest\" data-toc-modified-id=\"Compound-Interest-1.1.2\"><span class=\"toc-item-num\">1.1.2&nbsp;&nbsp;</span>Compound Interest</a></span></li><li><span><a href=\"#Continuous-Interest\" data-toc-modified-id=\"Continuous-Interest-1.1.3\"><span class=\"toc-item-num\">1.1.3&nbsp;&nbsp;</span>Continuous Interest</a></span></li></ul></li><li><span><a href=\"#Investment-Return-Measures\" data-toc-modified-id=\"Investment-Return-Measures-1.2\"><span class=\"toc-item-num\">1.2&nbsp;&nbsp;</span>Investment Return Measures</a></span></li><li><span><a href=\"#Coupon-Bonds\" data-toc-modified-id=\"Coupon-Bonds-1.3\"><span class=\"toc-item-num\">1.3&nbsp;&nbsp;</span>Coupon Bonds</a></span></li><li><span><a href=\"#Bond-Pricing\" data-toc-modified-id=\"Bond-Pricing-1.4\"><span class=\"toc-item-num\">1.4&nbsp;&nbsp;</span>Bond Pricing</a></span></li><li><span><a href=\"#Bond-Yield\" data-toc-modified-id=\"Bond-Yield-1.5\"><span class=\"toc-item-num\">1.5&nbsp;&nbsp;</span>Bond Yield</a></span></li><li><span><a href=\"#Semiannually-(And-Other)-Compounded-Yields\" data-toc-modified-id=\"Semiannually-(And-Other)-Compounded-Yields-1.6\"><span class=\"toc-item-num\">1.6&nbsp;&nbsp;</span>Semiannually (And Other) Compounded Yields</a></span></li><li><span><a href=\"#Accrued-Interest\" data-toc-modified-id=\"Accrued-Interest-1.7\"><span class=\"toc-item-num\">1.7&nbsp;&nbsp;</span>Accrued Interest</a></span></li><li><span><a href=\"#Off-coupon-date-Yields\" data-toc-modified-id=\"Off-coupon-date-Yields-1.8\"><span class=\"toc-item-num\">1.8&nbsp;&nbsp;</span>Off coupon date Yields</a></span></li><li><span><a href=\"#Government-Bonds\" data-toc-modified-id=\"Government-Bonds-1.9\"><span class=\"toc-item-num\">1.9&nbsp;&nbsp;</span>Government Bonds</a></span></li><li><span><a href=\"#Money-Markets\" data-toc-modified-id=\"Money-Markets-1.10\"><span class=\"toc-item-num\">1.10&nbsp;&nbsp;</span>Money Markets</a></span></li></ul></li><li><span><a href=\"#Time-Value-of-Money\" data-toc-modified-id=\"Time-Value-of-Money-2\"><span class=\"toc-item-num\">2&nbsp;&nbsp;</span>Time Value of Money</a></span><ul class=\"toc-item\"><li><span><a href=\"#Future-Value\" data-toc-modified-id=\"Future-Value-2.1\"><span class=\"toc-item-num\">2.1&nbsp;&nbsp;</span>Future Value</a></span></li><li><span><a href=\"#Present-Value\" data-toc-modified-id=\"Present-Value-2.2\"><span class=\"toc-item-num\">2.2&nbsp;&nbsp;</span>Present Value</a></span></li><li><span><a href=\"#Arbitrage\" data-toc-modified-id=\"Arbitrage-2.3\"><span class=\"toc-item-num\">2.3&nbsp;&nbsp;</span>Arbitrage</a></span></li><li><span><a href=\"#Pricing-Zero-Coupon-Bonds\" data-toc-modified-id=\"Pricing-Zero-Coupon-Bonds-2.4\"><span class=\"toc-item-num\">2.4&nbsp;&nbsp;</span>Pricing Zero Coupon Bonds</a></span></li><li><span><a href=\"#Future-and-Present-Values-for-Cash-Flow-Streams\" data-toc-modified-id=\"Future-and-Present-Values-for-Cash-Flow-Streams-2.5\"><span class=\"toc-item-num\">2.5&nbsp;&nbsp;</span>Future and Present Values for Cash Flow Streams</a></span></li><li><span><a href=\"#Forward-Rates-with-Flat-Term-Structures\" data-toc-modified-id=\"Forward-Rates-with-Flat-Term-Structures-2.6\"><span class=\"toc-item-num\">2.6&nbsp;&nbsp;</span>Forward Rates with Flat Term Structures</a></span></li><li><span><a href=\"#Coupon-Bond-Valuation\" data-toc-modified-id=\"Coupon-Bond-Valuation-2.7\"><span class=\"toc-item-num\">2.7&nbsp;&nbsp;</span>Coupon Bond Valuation</a></span></li><li><span><a href=\"#Discount-Factors\" data-toc-modified-id=\"Discount-Factors-2.8\"><span class=\"toc-item-num\">2.8&nbsp;&nbsp;</span>Discount Factors</a></span></li><li><span><a href=\"#Annuities\" data-toc-modified-id=\"Annuities-2.9\"><span class=\"toc-item-num\">2.9&nbsp;&nbsp;</span>Annuities</a></span><ul class=\"toc-item\"><li><span><a href=\"#Annuity-in-Arrears\" data-toc-modified-id=\"Annuity-in-Arrears-2.9.1\"><span class=\"toc-item-num\">2.9.1&nbsp;&nbsp;</span>Annuity in Arrears</a></span></li><li><span><a href=\"#Annuity-Due\" data-toc-modified-id=\"Annuity-Due-2.9.2\"><span class=\"toc-item-num\">2.9.2&nbsp;&nbsp;</span>Annuity Due</a></span></li><li><span><a href=\"#Deferred-Annuity\" data-toc-modified-id=\"Deferred-Annuity-2.9.3\"><span class=\"toc-item-num\">2.9.3&nbsp;&nbsp;</span>Deferred Annuity</a></span></li><li><span><a href=\"#Growing-Annuity\" data-toc-modified-id=\"Growing-Annuity-2.9.4\"><span class=\"toc-item-num\">2.9.4&nbsp;&nbsp;</span>Growing Annuity</a></span></li><li><span><a href=\"#Perpetuities\" data-toc-modified-id=\"Perpetuities-2.9.5\"><span class=\"toc-item-num\">2.9.5&nbsp;&nbsp;</span>Perpetuities</a></span></li><li><span><a href=\"#Bonds-and-Annuities\" data-toc-modified-id=\"Bonds-and-Annuities-2.9.6\"><span class=\"toc-item-num\">2.9.6&nbsp;&nbsp;</span>Bonds and Annuities</a></span></li></ul></li></ul></li><li><span><a href=\"#Term-Structure\" data-toc-modified-id=\"Term-Structure-3\"><span class=\"toc-item-num\">3&nbsp;&nbsp;</span>Term Structure</a></span><ul class=\"toc-item\"><li><span><a href=\"#Spot-Rates\" data-toc-modified-id=\"Spot-Rates-3.1\"><span class=\"toc-item-num\">3.1&nbsp;&nbsp;</span>Spot Rates</a></span></li><li><span><a href=\"#The-term-structure-of-interest-rates.\" data-toc-modified-id=\"The-term-structure-of-interest-rates.-3.2\"><span class=\"toc-item-num\">3.2&nbsp;&nbsp;</span>The term structure of interest rates.</a></span></li><li><span><a href=\"#Bond-Valuation\" data-toc-modified-id=\"Bond-Valuation-3.3\"><span class=\"toc-item-num\">3.3&nbsp;&nbsp;</span>Bond Valuation</a></span></li><li><span><a href=\"#Holding-Period-Return\" data-toc-modified-id=\"Holding-Period-Return-3.4\"><span class=\"toc-item-num\">3.4&nbsp;&nbsp;</span>Holding Period Return</a></span></li><li><span><a href=\"#Yield-to-Maturity\" data-toc-modified-id=\"Yield-to-Maturity-3.5\"><span class=\"toc-item-num\">3.5&nbsp;&nbsp;</span>Yield to Maturity</a></span></li><li><span><a href=\"#Bond-Portfolios\" data-toc-modified-id=\"Bond-Portfolios-3.6\"><span class=\"toc-item-num\">3.6&nbsp;&nbsp;</span>Bond Portfolios</a></span></li><li><span><a href=\"#Carry\" data-toc-modified-id=\"Carry-3.7\"><span class=\"toc-item-num\">3.7&nbsp;&nbsp;</span>Carry</a></span></li><li><span><a href=\"#Forward-Rates\" data-toc-modified-id=\"Forward-Rates-3.8\"><span class=\"toc-item-num\">3.8&nbsp;&nbsp;</span>Forward Rates</a></span></li></ul></li><li><span><a href=\"#Interest-Rate-Risk\" data-toc-modified-id=\"Interest-Rate-Risk-4\"><span class=\"toc-item-num\">4&nbsp;&nbsp;</span>Interest Rate Risk</a></span><ul class=\"toc-item\"><li><span><a href=\"#Dollar-Duration-and-DV01\" data-toc-modified-id=\"Dollar-Duration-and-DV01-4.1\"><span class=\"toc-item-num\">4.1&nbsp;&nbsp;</span>Dollar Duration and DV01</a></span></li><li><span><a href=\"#Duration\" data-toc-modified-id=\"Duration-4.2\"><span class=\"toc-item-num\">4.2&nbsp;&nbsp;</span>Duration</a></span></li><li><span><a href=\"#Inmunization\" data-toc-modified-id=\"Inmunization-4.3\"><span class=\"toc-item-num\">4.3&nbsp;&nbsp;</span>Inmunization</a></span></li><li><span><a href=\"#Convexity\" data-toc-modified-id=\"Convexity-4.4\"><span class=\"toc-item-num\">4.4&nbsp;&nbsp;</span>Convexity</a></span></li><li><span><a href=\"#Convexity-Hedging\" data-toc-modified-id=\"Convexity-Hedging-4.5\"><span class=\"toc-item-num\">4.5&nbsp;&nbsp;</span>Convexity Hedging</a></span></li></ul></li></ul></div>"
   ]
  },
  {
   "cell_type": "markdown",
   "metadata": {},
   "source": [
    "# Fixed Income Analytics Pricing and Risk Management"
   ]
  },
  {
   "cell_type": "markdown",
   "metadata": {},
   "source": [
    "Note: This is some notes taken while watching the course \"Fixed Income Analytics: Pricing and Risk Management\" on Udemy. "
   ]
  },
  {
   "cell_type": "markdown",
   "metadata": {},
   "source": [
    "## Interest Rates And Bonds"
   ]
  },
  {
   "cell_type": "markdown",
   "metadata": {},
   "source": [
    "### Interest Rates"
   ]
  },
  {
   "cell_type": "markdown",
   "metadata": {},
   "source": [
    "Interest rates are measures of the price charged in the economy to borrow money\n",
    "\n",
    "\n",
    "**Terminology:** \n",
    "* Interest: Charge levied to borrow money.\n",
    "* Principal: The amount of money borrowed in a loan.\n",
    "* Interest Rate: Fraction of the principal of a loan that will be charged as interest per unit time.\n",
    "* Time Basis: The time unit implicit in an interest rate.\n",
    "* Annual Interest Rate: Interest Rate for which the time basis is one year. \n",
    "\n",
    "**Example:**\n",
    "Suppose we take out a loan with a principal of X at an annual interest rate of r. Then, our total debt after 1 year is: \n",
    "\n",
    "$$D = (1+r)X$$\n",
    "\n",
    "This assumes that interest is calculated once on the principal and is charged once during the year, which is an example of annual compounding, but there are other compounding conventions (semiannual, monthly, continuous...)"
   ]
  },
  {
   "cell_type": "markdown",
   "metadata": {},
   "source": [
    "#### Simple Interest"
   ]
  },
  {
   "cell_type": "markdown",
   "metadata": {},
   "source": [
    "Interest that is levied only on the original principal. No interest is ever charged on the accumulated interest at any time. That is, there is no compounding.\n",
    "\n",
    "If we invest a principal F at the simply compunded interest rate r for a duration od T years, then: \n",
    "\n",
    "$$Investment = Principal + Interest = (1+rT)F$$\n",
    "\n",
    "In the case where T es less than a year then we can write T=d/365 where d is the days over the interest period. But this can vary depending on the day count convention."
   ]
  },
  {
   "cell_type": "markdown",
   "metadata": {},
   "source": [
    "#### Compound Interest"
   ]
  },
  {
   "cell_type": "markdown",
   "metadata": {},
   "source": [
    "Compiunded interest is interest that is added to the principal once per time period so that interest in the next period is levied on the interest charged so far as well as the principal. Suppose the time period is 1 year, then: \n",
    "\n",
    "$$ V(T) = (1+r)^TF $$\n",
    "\n",
    "Where N in the period of the investment.  In the case of semmianual compounding: \n",
    "\n",
    "$$ V(T) = (1+\\frac{r}{2})^{2T} F $$\n",
    "\n",
    "More generally, if the interest is compunded k times per year, then: \n",
    "\n",
    "$$ V(T) = (1+\\frac{r}{k})^{kT}X $$"
   ]
  },
  {
   "cell_type": "markdown",
   "metadata": {},
   "source": [
    "#### Continuous Interest"
   ]
  },
  {
   "cell_type": "markdown",
   "metadata": {},
   "source": [
    "Instantaneous compounding of all interest income. Limit of periodic compounding as the compounding frequency goes to infinity.\n",
    "Since:\n",
    "\n",
    "$$ \\lim_{k->\\infty} (1+r/k)^{kT} = e^{rT}$$\n",
    "\n",
    "Then:\n",
    "\n",
    "$$ V(T) = e^{rT}X$$"
   ]
  },
  {
   "cell_type": "markdown",
   "metadata": {},
   "source": [
    "### Investment Return Measures"
   ]
  },
  {
   "cell_type": "markdown",
   "metadata": {},
   "source": [
    "We can consider absolute and relative measures of return on investment (ROI). The most basic example of absolute return is the profit and loss (P&L) which is: \n",
    "\n",
    "$$ PL = V(T)-V(0)$$\n",
    "\n",
    "One simple relative return measure is the gross return:\n",
    "\n",
    "$$ g = \\frac{V(T)}{V(0)}$$"
   ]
  },
  {
   "cell_type": "markdown",
   "metadata": {},
   "source": [
    "The most basic return measure is the quantity R defined by: $g=1+R$, ofted called rate of return , return or cumulative return.\n",
    "\n",
    "Annualized returns are measures of return per unit time. We define annualized return $\\rho$ such that: \n",
    "\n",
    "$$ (1+\\rho)^T = \\frac{V(T)}{V(0)} $$\n",
    "\n",
    "or: \n",
    "\n",
    "$$ \\rho = \\bigg(\\frac{V(T)}{V(0)}\\bigg)^{1/T}-1 $$"
   ]
  },
  {
   "cell_type": "markdown",
   "metadata": {},
   "source": [
    "### Coupon Bonds"
   ]
  },
  {
   "cell_type": "markdown",
   "metadata": {},
   "source": [
    "A bond or debt security is a contract that a borrowing entity offers to enter into with potential bond buyers. The borrower is said to isse the bond and is this referred to as the bond issuer. The counterparty is called the bond holder. Bonds are tradeable instruments.\n",
    "\n",
    "There are preset times $t_1$, $t_2$, ..., $t_N$ and corresponding cash flows $c_1$, $c_2$, ..., $c_N$ which are paid by the issuer to the bond holder.\n",
    "\n",
    "Most issued bonds are coupon bonds, which are specified by a set of key parameters. \n",
    "* The face value (F): also called par value, principal or nominal value of the bond.\n",
    "* Maturity: day in which the contract terminates. At or about the maturity date, the face value is paid to the bond holder. \n",
    "* Coupon rate: interest rate of the bond. The annual coupon will be denoted by $c$ and the coupon rate is thus $c/F$ \n",
    "\n",
    "If the payment frequency is k then the cash flows are c/k paid at regularly spaced intervals k times per year. By far the most popular form of bond has k=1 or k=2. \n",
    "\n",
    "The most prevalent structure is known as vanilla bond or bullet bond. "
   ]
  },
  {
   "cell_type": "markdown",
   "metadata": {},
   "source": [
    "A special case is the zero coupon bond, that only makes one payment at maturity date. While this is true mathematically if violates the spirit of what we mean by coupon bonds, so they are considered as a distinct class of securities. "
   ]
  },
  {
   "cell_type": "markdown",
   "metadata": {},
   "source": [
    "### Bond Pricing"
   ]
  },
  {
   "cell_type": "markdown",
   "metadata": {},
   "source": [
    "As a convention in many markets, the quoted price of bonds are per 100€ nominal value. That is, the price is quoted for a 100€ nominal value on the given bond, and then it is scaled up for a bond with a different face value. This means that the bond's price is reported as a percentage of the nominal value."
   ]
  },
  {
   "cell_type": "markdown",
   "metadata": {},
   "source": [
    "### Bond Yield"
   ]
  },
  {
   "cell_type": "markdown",
   "metadata": {},
   "source": [
    "Consider the case of a general bond paying cash flows $c_1$, $c_2$, ..., $c_N$ at times $t_1$, $t_2$, ..., $t_N$ and corresponding and is currently trading at price P^. Then the (annually compounded) yield for the bond (also called yield to maturity) is the unique number y such that:\n",
    "\n",
    "$$ P = \\sum_{i=1}^N \\frac{c_i}{(1+y)^{t_i}} $$\n",
    "\n",
    "If the yield is less than the coupon rate, then the price is higher than the face value and it is said that the bond is trading at a premium. Otherwise it is said to be trading at discount. In the case in which the yield is equal to the coupon rate, the bond is said to be trading at par. \n",
    "\n",
    "Notice that yield and return are related, and this is quite clear for a zero coupon bond. In this case, if the zero coupon bond is trading at a yield of 4%, then the annualized return is also 4%. But for a coupon bond the relation is not so straightforward. In this case the yield will be equal to the return if the following conditions are met: \n",
    "* The bond is held to maturity\n",
    "* The coupons are all reinvested at an interest rate equal to the yield. "
   ]
  },
  {
   "cell_type": "markdown",
   "metadata": {},
   "source": [
    "### Semiannually (And Other) Compounded Yields"
   ]
  },
  {
   "cell_type": "markdown",
   "metadata": {},
   "source": [
    "In this case $t_j=j/2$ and $c_j=c/2$ for $1\\leq j \\leq J-1$ and $c_J=c/2+F$, so that: \n",
    "\n",
    "$$ P = \\sum_{j=1}^{2T-1}\\frac{c/2}{(1+y/2)^j}+\\frac{c/2+F}{(1+y/2)^{2T}} $$\n",
    "\n",
    "Which is usually rewritten as: \n",
    "\n",
    "$$ P = \\sum_{j=1}^{2T}\\frac{c/2}{(1+y/2)^j}+\\frac{F}{(1+y/2)^{2T}} $$"
   ]
  },
  {
   "cell_type": "markdown",
   "metadata": {},
   "source": [
    "### Accrued Interest"
   ]
  },
  {
   "cell_type": "markdown",
   "metadata": {},
   "source": [
    "The market price of a bond that we have considered so far is referred to as the dirty price of full price of the bond. There is a convention to decompose this price in two pieces: the clean price and the accrued interest. This concepts are impactful when pricing a bond between coupon payments. At a coupon date, the accrued interest is 0, hence, the dirty price is equal to the clean price. \n",
    "\n",
    "Accrued interest is the fraction of the next coupon poayment that has already been \"earned\" and the clean price or flat price is the full price minus the accrued interest. \n",
    "\n",
    "Let c be the value of the coupon payment, d the number of days elapsed since the last coupon payment and D the the number of days between coupon payments, then if we are at some point inbetween coupon payments, the accrued interest is roughly: \n",
    "\n",
    "$$ acc = \\frac{d}{D} c$$\n",
    "\n",
    "This is a rough approximation, since the way days are counted depends on the day count convention used. A common convention is the **Actual/Actual** in which we count actual number of calendar days since the last coupon date and the actual number of days between coupon dates. This is the most important day count convention for government bonds.\n",
    "\n",
    "Other conventions are: \n",
    "* Actual/360\n",
    "* Actual/365\n",
    "* 30/360\n",
    "\n",
    "With the accrued interest defined, we have: \n",
    "\n",
    "$$ Flat Price = Full Price - accruedInterest$$"
   ]
  },
  {
   "cell_type": "markdown",
   "metadata": {},
   "source": [
    "### Off coupon date Yields"
   ]
  },
  {
   "cell_type": "markdown",
   "metadata": {},
   "source": [
    "Consider a bond with a face value F paying coupons c annually. Suppose there are N+1 coupon paymnents left and the year fraction until the next coupon payment is $\\tau$. Then: \n",
    "\n",
    "$$ P=\\sum_{j=0}^N \\frac{c}{(1+y)^{\\tau+j}} + \\frac{F}{(1+y)^{\\tau+N}}$$\n",
    "\n",
    "Note that this is the dirty price and that $\\tau$ must be computed using the appropiate day count convention.\n",
    "\n",
    "In the case of semiannual compounding, on a date between coupon payments we discount the next payment by $(1+y/2)^\\nu$ where $\\nu$ is the fraction of a payment period until the next payment. Each subsequent payment is discounted by one more factor of $1+y/2$ for each 6 month period until it is paid. "
   ]
  },
  {
   "cell_type": "markdown",
   "metadata": {
    "ExecuteTime": {
     "end_time": "2022-05-07T15:04:24.467434Z",
     "start_time": "2022-05-07T15:04:24.235867Z"
    }
   },
   "source": [
    "### Government Bonds"
   ]
  },
  {
   "cell_type": "markdown",
   "metadata": {},
   "source": [
    "This are bonds issues by governments also known as sovereign bonds. Most government bonds are either vanilla bonds or zero coupon bonds. Those bonds with maturities greater than 1 year are generally referred to as treasury bonds and those with maturities up to 1 year are called treasury bills. \n",
    "\n",
    "Treasury bills are normally zero coupon bonds and are classified as money market instruments. \n",
    "\n",
    "For example, debt securities issues by the US treasury fall into 3 categories: \n",
    "* Bills (Maturity < 1 year)\n",
    "* Notes (Maturity between 1 and 10 years)\n",
    "* Bonds (Maturities > 10 years)\n",
    "\n",
    "A note or bond will be originated on its issue date and its maturity date can be taken a whole number of years after the issue date. The first coupon date can be expected 6 months after its issue date. Again, in the case of US, the day count convention is Actual/Actual. \n",
    "\n",
    "There is another category of treasury instruments which are the treasury strips. This are zero coupon bonds that are constructed from treasury bonds by a process called stripping. The holder of a Strip recieves one individual coupon of a payment of a bond when it is paid. \n",
    "\n",
    "The treasury bonds of the United Kingdom are known as Gilts. They vary between 1 and 30 years in maturity and pay semiannually. Also use Actual Actual day count convention. \n",
    "\n",
    "Germany has historically been the benchmark bond market for Europe. Outside of the short term bill market, German issues consist mostly of short term (5 years) Bundesobligationen (Bobls) and longer term Bundesanleihen (Bunds). Standard vanilla bonds making annual coupon payments. The convention of annual coupon payments is shared by other Eurozone bond markets such as Italy or France.\n",
    "\n"
   ]
  },
  {
   "cell_type": "markdown",
   "metadata": {},
   "source": [
    "### Money Markets"
   ]
  },
  {
   "cell_type": "markdown",
   "metadata": {},
   "source": [
    "The money market is made of instruments with maturities less than or equal to 1 year. Treasury Bills are short term debt securities issued by governments. T-Bills are issued with maturities of 1, 2, 3, 6 and 12 months. From what we have seen already about zero coupon bonds, we know that the annually compounded yield is : \n",
    "\n",
    "$$ y=\\bigg(\\frac{F}{P}\\bigg)^{1/T}-1 $$\n",
    "\n",
    "But treasury bill values are quoted on a bank discount basis. The bank discount basis yield is:\n",
    "\n",
    "$$ Y = \\frac{360}{T}\\frac{F-P}{F}$$\n",
    "\n",
    "Which is based on an Actual/360 day count convention. Solving for price: \n",
    "\n",
    "$$ P = \\bigg(1-\\frac{YT}{360}\\bigg)F $$\n",
    "\n",
    "The main day count conventions of interest for repo markets are Actual/365 and Actual/360\n",
    "\n",
    "Actual/360 is the standard day count used in the US and Euro money markets, with Actual/365 used in sterling (UK) markets. \n",
    "\n",
    "The next money market instrument is the **Repurchase Agreements** or **Repo**. This are short term deals between 2 parties to exchange cash for an asset, with an agreement to reverse the exchange at some future date. In a repo, one counterparty sells an asset to the other, with the obligation to buy it back at a later date at a present price. The essense of a repo is a collateralized loan. The initial purchaser of the asset is lending money to the seller, and taking the asset as collateral. At the termination of the contract, the seller (cash borrower) buys the asset back for the original price plus interest which is levied at the repo rate. \n",
    "\n",
    "Interbank loans consist of very short term loans, primarily overnight loands between banks. There are a variey of interest rates and interest rate benchmarks associated with this market, including the Federal Funds Rate (Fed Funds), LIBOR, SONIA and €ster. \n",
    "\n",
    "LIBOR has been a leading benchmark interest rate in fixed income markets since the 90's. Due to abuses of the LIBOR, it is being replaced. In the US it will be replaced by SOFR and in the UK markets it will be replaced by SONIA, while in the Eurozone it will be replaced by €ster (Euro Short Term Rate)."
   ]
  },
  {
   "cell_type": "markdown",
   "metadata": {},
   "source": [
    "## Time Value of Money"
   ]
  },
  {
   "cell_type": "markdown",
   "metadata": {},
   "source": [
    "The time value of money could be regarded as the premium cash received now enjoys over cash received later in the future. "
   ]
  },
  {
   "cell_type": "markdown",
   "metadata": {},
   "source": [
    "### Future Value"
   ]
  },
  {
   "cell_type": "markdown",
   "metadata": {},
   "source": [
    "If a nominal amount $V_0$ is invested at an interest rate r, its **future value** at time T, the termination of the investment, is: \n",
    "\n",
    "$$ FV(T) = V_0(1+r)^T$$\n",
    "\n",
    "This value should be thought of as a measure of the level of return available in markets generally. If r is a compound interest rate with compounding frequency k, we calculate the future value for any time T by: \n",
    "\n",
    "$$ FV(T) = \\bigg(1+\\frac{r}{k}\\bigg)^{kT} V_0 $$"
   ]
  },
  {
   "cell_type": "markdown",
   "metadata": {},
   "source": [
    "### Present Value"
   ]
  },
  {
   "cell_type": "markdown",
   "metadata": {},
   "source": [
    "This concepts revolves around the idea of what is the value today of a payment to be recieved in the future. If X is a payment to be made at some future date T then its **present value** on today's date is the amount of money that must be invested today, such that, at prevailing interest rates, the investment is worth X on date T. \n",
    "\n",
    "Another way to day it is, the present value of X, paid at time T, is the amount PV such that the future value of PV at time T is X.\n",
    "\n",
    "$$ PV = \\frac{X}{(1+r)^T} $$\n",
    "\n",
    "This is assuming annual compunding. Another way of calling the present value of X is the **discounted value** of X. And the process of calculating it is referred to as discounting the payment back to today. \n",
    "\n",
    "The present value if r is a compound interest rate with compounding frequency k is: \n",
    "\n",
    "$$ PV = \\frac{X}{(1+\\frac{r}{k})^{kT}} $$\n",
    "\n",
    "Putting together the equations seen in the previous section with the ones seen here, we have a fundamental equation of the time value of money: \n",
    "\n",
    "$$ PV = \\frac{FV(T)}{(1+r)^T} $$\n",
    "\n",
    "It can be seen that the PV of an instrument is actually the correct valkue to assign to the instrument. Any price higher than PV will result in a future value higher than FV(T), which implies PV is an upper bound of the present value. But also, any price lower than PV will result in a future value lower than FV(T) which implies PV is a lower bound. Hence, PV must be the fair price at present time."
   ]
  },
  {
   "cell_type": "markdown",
   "metadata": {},
   "source": [
    "### Arbitrage"
   ]
  },
  {
   "cell_type": "markdown",
   "metadata": {},
   "source": [
    "Anb arbitrage is a financial transaction or deal that allows a participant to make profit without risk. A fundamental property of arbitrages is that they cannot exists in equilibrium. Which for all intents and purposes, it means arbitrages cannot exists (at lest while pricing).\n",
    "\n",
    "Suppose the prevailing market interest rate for a loan of term T is r. Suppose there is an instrument that promises to pay cash amount X on the date T. (A Zero coupon bond). Then, if the current market price of this deal, P, is anything other than PV, then there is an arbitrage available. \n",
    "\n",
    "Another way to state the arbitrage principle is the following: \n",
    "\n",
    "**Law of One Price**: If 2 assets have the same price at some date in the future, then either they have the same price now, or there is an arbitrage. "
   ]
  },
  {
   "cell_type": "markdown",
   "metadata": {},
   "source": [
    "### Pricing Zero Coupon Bonds"
   ]
  },
  {
   "cell_type": "markdown",
   "metadata": {},
   "source": [
    "With all we have seen until now we can proceed to price Zero Coupon Bonds. \n",
    "\n",
    "A zero coupon bond with a face value of F and a maturity of T is an instrument that simply pays the bondholder a lump sum of F on the date T. Thus, if the annually compounded interest rate is r, the price of a zero coupon bond as described is: \n",
    "\n",
    "$$ P=\\frac{F}{(1+r)^T} $$\n",
    "\n",
    "A portfolio of zero coupon bonds is simply a grouping together of a collection of zero coupon bonds treated as a single asset. "
   ]
  },
  {
   "cell_type": "markdown",
   "metadata": {},
   "source": [
    "### Future and Present Values for Cash Flow Streams"
   ]
  },
  {
   "cell_type": "markdown",
   "metadata": {},
   "source": [
    "The present value of a stream of cash flows is the exact sum of money that must be invested to replicate the payment stream.\n",
    "\n",
    "We denote the payments made by a general cash flow stream by $A_1$, $A_2$, ..., $A_N$, and suppose these payments are made at respective times $t_1$, $t_2$, ..., $t_N$. The future value of the i payment at some future time $T>t_i$ is : \n",
    "\n",
    "$$ FV_i(T) = A_i(1+r)^{T-t_i} $$\n",
    "\n",
    "And the present value at time 0 of the i payment is: \n",
    "\n",
    "$$ PV_i = \\frac{A_i}{(1+r)^{t_i}} $$\n",
    "\n",
    "Therefore, the future value of the entire payment stream at time T is: \n",
    "\n",
    "$$ FV(T) = \\sum_{i=1}^N A_i (1+r)^{T-t_i} $$\n",
    "\n",
    "and the present value is: \n",
    "\n",
    "$$ PV = \\sum_{i=1}^N \\frac{A_i}{(1+r)^{t_i}} $$\n",
    "\n",
    "Take into account that this calculation of future values for a cash flow stream requires making assumptions about future interest rates. \n",
    "* Some financial products guarantee a particular interest rate. \n",
    "* Reasonable estimates of future interest rate can often be made. \n",
    "* Arbitrage principles can be used to lock in future interest rates. "
   ]
  },
  {
   "cell_type": "markdown",
   "metadata": {},
   "source": [
    "### Forward Rates with Flat Term Structures"
   ]
  },
  {
   "cell_type": "markdown",
   "metadata": {},
   "source": [
    "In the case of flat term structures with an interest rate r for all loan terms, it is r iself that can be locked in for loans in the future. "
   ]
  },
  {
   "cell_type": "markdown",
   "metadata": {},
   "source": [
    "### Coupon Bond Valuation"
   ]
  },
  {
   "cell_type": "markdown",
   "metadata": {},
   "source": [
    "Following what we have seen up until now, the fair price of a coupon bond is the present value of the bond's cash flows. \n",
    "\n",
    "Consider a government vanilla bond. Let the maturity of the bond be T, the face value F and annually paid coupon c. Let r be the constant level of annually compounded interest rates with a flat term structure. Then the cash flows paid by the bond are the coupon payments of c every year until maturity T and the final payment of F at T. \n",
    "\n",
    "$$ P = \\sum_{t=1}^N \\frac{c}{(1+r)^t}+\\frac{F}{(1+r)^T}$$"
   ]
  },
  {
   "cell_type": "markdown",
   "metadata": {},
   "source": [
    "### Discount Factors"
   ]
  },
  {
   "cell_type": "markdown",
   "metadata": {},
   "source": [
    "Let P be the price of a zero coupon bond with a face value of F and maturing at time t. Let r be the annually compounded interest rate. We may write:\n",
    "\n",
    "$$ P = \\frac{F}{(1+r)^t} $$\n",
    "\n",
    "We can define the **discount factor** Z(t) as : \n",
    "\n",
    "$$ Z(t) = \\frac{1}{(1+r)^t} $$\n",
    "\n",
    "Notice that $Z(t)$ is the price of a zero coupon bond maturing at time t with a 1€ nominal value. \n",
    "\n",
    "Also, a discount factor is the factor by which a payment recieved at a future date must be reduced to be  discounted back to today, which makes the equivalent to interest rates, containing exactly the same information.\n",
    "\n",
    "It follows that we can write a simple formula for the present value of a cash flow stream $c_i$ in terms of discount factors: \n",
    "\n",
    "$$ PV = \\sum_{i=1}^N Z(t_i)c_i $$\n",
    "\n",
    "For a frequency $k$ compounding: \n",
    "\n",
    "$$ Z(t) = \\frac{1}{(1+r/k)^{kt}} $$\n",
    "\n",
    "For a continuous compounding: \n",
    "\n",
    "$$ Z(t) = e^{-rt} $$\n",
    "\n",
    "Using discount factors we can write the price a bond in a fundamental way:\n",
    "\n",
    "$$ P =  \\sum_{i=1}^N Z(t_i)c_i $$"
   ]
  },
  {
   "cell_type": "markdown",
   "metadata": {},
   "source": [
    "### Annuities"
   ]
  },
  {
   "cell_type": "markdown",
   "metadata": {},
   "source": [
    "Annuities are securities making payments of a fixed dollar value on regularly spaced future dates. \n",
    "\n",
    "* Every payment is the same \n",
    "* The duration between payments is constant. \n",
    "\n",
    "#### Annuity in Arrears\n",
    "\n",
    "We will focus on the **annuity in arrears** or ordinary annuity. The asset makes k payments in a period from S to T divided in k equal subperiods, and the asset pays its common payment A at the end of each subperiod. Taking the payment period to be 1 year, the first payment happens at S+1 amd every year until T. It follows from our work on future and present values of cash flows that the future value of the annuity is: \n",
    "\n",
    "$$ FV(T) = \\sum_{t=1}^T A(1+r)^{T-t} = A\\sum_{t=0}^{T-1}(1+r)^t $$\n",
    "\n",
    "And for the present value, assuming a T year annuity, the present value of the entire annuity is: \n",
    "\n",
    "$$ PV = A\\sum_{t=1}^T \\frac{1}{(1+r)^t} $$\n",
    "\n",
    "By using the geometric sum identity, we can write the future value of the annuity as: \n",
    "\n",
    "$$ FV(T) = \\frac{A}{r}[(1+r)^T-1] $$\n",
    "\n",
    "And similarly, we can write the present value as: \n",
    "\n",
    "$$ PV = \\frac{A}{r}\\bigg[1-\\frac{1}{(1+r)^T}\\bigg] $$\n",
    "\n",
    "#### Annuity Due\n",
    "\n",
    "Another structure for annuities is the **annuity due**, which is a slight modification in which the payments are done at the start of each payment period. It can be seen that the present value for this kind of annuity can be written as: \n",
    "\n",
    "$$ PV = \\frac{A}{r}\\bigg[1+r-\\frac{1}{(1+r)^{T-1}}\\bigg] $$\n",
    "\n",
    "And for the future value: \n",
    "\n",
    "$$ FV(T) = \\frac{A(1+r)}{r}[(1+r)^T-1] $$\n",
    "\n",
    "#### Deferred Annuity \n",
    "\n",
    "The following type of annuity is the **deferred annuity**, in which the payments doesn't begin until some number of payments periods into the future. Suppose an annuity in arrears makes a payment of dollar value A every year but the first payment is after M periods have passed, then the payment dates are M+1, M+2...\n",
    "\n",
    "The present value can be written as: \n",
    "\n",
    "$$ PV = \\frac{A}{r(1+r)^M}\\bigg[1-\\frac{1}{(1+r)^{T-M}}\\bigg] $$\n",
    "\n",
    "The future value at its maturity date is: \n",
    "\n",
    "$$ FV(T) = \\frac{A}{r}[(1+r)^{T-M}-1] $$\n",
    "\n",
    "#### Growing Annuity\n",
    "Finally, if the payment made by the annuity is allowed to change, it is called a **growing annuity**. The payments grow at a specified fixed rate g, called the \"growth rate\". In this case we have: \n",
    "\n",
    "$$ PV = \\frac{A}{r-g}\\bigg[1-\\bigg(\\frac{1+g}{1+r}\\bigg)^T\\bigg] $$\n",
    "\n",
    "$$ FV(T) = A\\frac{(1+r)^T-(1+g)^T}{r-g} $$\n",
    "\n",
    "#### Perpetuities\n",
    "\n",
    "Perpetuities are annuities with no maturity date. This, a perpetuity has a present value of: \n",
    "\n",
    "$$ PV = \\sum_{t=1}^\\infty \\frac{A}{(1+r)^t} = \\frac{A}{r}$$\n",
    "\n",
    "It can be seen that a growing perpetuity with growth rate g has a present value of: \n",
    "\n",
    "$$ PV = \\frac{A}{r-g} $$\n",
    "\n",
    "#### Bonds and Annuities\n",
    "\n",
    "The annuities formulas that we have derived are very useful for bond pricing. Since we can apply on them the annuity formula as: \n",
    "\n",
    "$$ P = \\frac{c}{r}\\bigg[1-\\frac{1}{(1+r)^T}\\bigg]+\\frac{F}{(1+r)^T} $$"
   ]
  },
  {
   "cell_type": "markdown",
   "metadata": {},
   "source": [
    "## Term Structure"
   ]
  },
  {
   "cell_type": "markdown",
   "metadata": {},
   "source": [
    "### Spot Rates"
   ]
  },
  {
   "cell_type": "markdown",
   "metadata": {},
   "source": [
    "Up until now, we have assumed there was one interest rate $r$ used for all future values and for discounting in any specific sutuation. In reality there are many different interest rates prevailing on the debt markets at any time, and there are many debt markets. Here we will consider the notion of a spot rate which connects interest rates to markets, and consider the market forces that shape interest rates. \n",
    "\n",
    "A spot rate is a rate of return associated with a particular zero coupon bond. If Z(T) is the price of a T-year zero coupon bond with a 1€ face value (ie a discount factor), the corresponding annually compounded **spot rate**, r(T) is the rate of return implied by Z(T). That is: \n",
    "\n",
    "$$ r(T) = \\bigg[\\frac{1}{Z(T)}\\bigg]^{1/T}-1 $$\n",
    "\n",
    "or: \n",
    "\n",
    "$$ Z(T) = \\frac{1}{(1+r(T))^T} $$\n",
    "\n",
    "The spot rate is the interest rate implied by the price Z(T), connecting interest rates to the bond market. \n",
    "\n",
    "By deriving the interest rate r(T) from bond prices, it is possible that the rate depends on the term to maturity T, which introduces the possibility of a nontrivial term structure of interest rates, ie interest rates given by a nonconstant function r(T).\n",
    "\n",
    "Another interpretation of the spot rate r(T) is as the required yield of the bond. The required yield of a bond or any traded asset is the yield, or return, that the market requires to commit funds to the investment. \n",
    "\n",
    "Like any interest rate, spot rates and bond prices have an inverse relationship.\n",
    "\n",
    "If r(T) < required yield, reduced demand will drive the price down and the spot rate up. If r(T) > required yield, increased demand will drive the price up and the spot rate down. \n",
    "\n",
    "The spot rate is to some degree a theoretical notion. There are not enough liquid zero coupon bonds trading to directly impute spot rates r(T) for a rich set of tenors T. Rather, one must infer them from the traded instruments which are liquid enough to provide trustworthy prices. This leads to the idea of an implied **yield curve**."
   ]
  },
  {
   "cell_type": "markdown",
   "metadata": {},
   "source": [
    "### The term structure of interest rates. "
   ]
  },
  {
   "cell_type": "markdown",
   "metadata": {},
   "source": [
    "The term structure of interest rates (yield curve) refers to the dependence of the interest rate level on the loan term T. This dependence is implicit in the notation r(T), but there are other forces that shape spot rates such as expectations of future rates or risk considerations. Which can be reflected in the notation: \n",
    "\n",
    "$$ r = r(T, f_1, f_2, ...)$$"
   ]
  },
  {
   "cell_type": "markdown",
   "metadata": {},
   "source": [
    "As an example, the following graph represents the yield curve of the Eurozone as of 2022-05-05:"
   ]
  },
  {
   "attachments": {
    "image.png": {
     "image/png": "[encoded data removed]"
    }
   },
   "cell_type": "markdown",
   "metadata": {},
   "source": [
    "![image.png](attachment:image.png)"
   ]
  },
  {
   "cell_type": "markdown",
   "metadata": {},
   "source": [
    "A yield curve is usually constructed based on market prices of a collection of traded instruments (bonds, interest rate futures, swaps...). There can only be a finite number of points $T_i$ on the term axis, referred to as **tenors** based on actual market interest rates. \n",
    "\n",
    "Intermediate points must be determined by interpolation. "
   ]
  },
  {
   "cell_type": "markdown",
   "metadata": {},
   "source": [
    "### Bond Valuation"
   ]
  },
  {
   "cell_type": "markdown",
   "metadata": {},
   "source": [
    "In terms of bond valuation, the introduction of a nontrivial term structure does not really change anything in a fundamental way in the discount factor representation of the bond price.\n",
    "\n",
    "The formula: \n",
    "\n",
    "$$ P=\\sum_{j=1}^NZ(t_j)c_j $$\n",
    "\n",
    "is equally valid when using spot rates. The only difference is in the way we compute the discount factors and how to express them in terms of the spot rates we wish to use. Now, the discount factor is given by: \n",
    "\n",
    "$$ Z(t) = \\frac{1}{(1+r(t))^t} $$\n",
    "\n",
    "In the standard case of a vanilla bond, we can write: \n",
    "\n",
    "$$ P = \\sum_{t=1}^T \\frac{c}{(1+r(t))^t}+\\frac{F}{(1+r(T))^T}$$"
   ]
  },
  {
   "cell_type": "markdown",
   "metadata": {},
   "source": [
    "### Holding Period Return"
   ]
  },
  {
   "cell_type": "markdown",
   "metadata": {},
   "source": [
    "Suppose we make an initial investment in a bond or a portfolio of bonds of dollar value V(0) at time 0. And let FV(t) be the future value of this investment at any time t >0 during the life of the investment. Suppose out investment horizon is T. Then the annualized holding period return of our investment is $h_T$, satisfying: \n",
    "\n",
    "$$ (1+h_T)^T = \\frac{FV(T)}{V(0)} $$\n",
    "\n",
    "which solving for $h_T$: \n",
    "\n",
    "$$ h_T = \\bigg[ \\frac{FV(T)}{V(0)} \\bigg]^{1/T} -1$$\n",
    "\n",
    "This quantity is known as the **horizon rate of return** and the **total rate of return**. The cumulative version of this return measure is the **holding period return**\n",
    "\n",
    "$$ h = \\frac{FV(T)}{V(0)}-1$$"
   ]
  },
  {
   "cell_type": "markdown",
   "metadata": {},
   "source": [
    "### Yield to Maturity"
   ]
  },
  {
   "cell_type": "markdown",
   "metadata": {},
   "source": [
    "Let P be the traded price of a T-maturity plain vanilla bond with face value F and annually paid coupon c. The yield to maturity (YTM) of the bond is the number y such that: \n",
    "\n",
    "$$ P = \\sum_{t=1}^T \\frac{c}{(1+y)^t} + \\frac{F}{(1+y)^T} $$\n",
    "\n",
    "Thus, the yield to maturity of a bond is that unique constant discount rate such that the present value of the bond's cash flows equals its market price. \n",
    "\n",
    "On a different view: the yield to maturity of a bond is equal to that interest rate level that would produce the observed bond price if the term structure of interest rates were flat. \n",
    "\n",
    "Given this interpretation, the annuity formula can be used to simplify the relation between yield and price: \n",
    "\n",
    "$$ P = \\frac{c}{y}\\bigg[1-\\frac{1}{(1+y)^T}\\bigg] + \\frac{F}{(1+y)^T}$$\n",
    "\n",
    "Recalling that $c/F$ is the coupon rate, it can be shown that: \n",
    "\n",
    "$$ y=c/F \\Rightarrow P=F \\;\\;\\; \\text{(par bond)} $$\n",
    "$$ y>c/F \\Rightarrow P<F \\;\\;\\; \\text{(discount bond)} $$\n",
    "$$ y<c/F \\Rightarrow P>F \\;\\;\\; \\text{(premium bond)} $$\n",
    "\n",
    "We also note the phenomenom of the **pull to par**. If the yield remains unchanged over the course of the bond's life, the price will converge to the par value. "
   ]
  },
  {
   "cell_type": "markdown",
   "metadata": {},
   "source": [
    "Finally, if the yield to maturity is unchanged over 1 coupon payment period, then the return on the bond position is the yield. "
   ]
  },
  {
   "cell_type": "markdown",
   "metadata": {},
   "source": [
    "### Bond Portfolios"
   ]
  },
  {
   "cell_type": "markdown",
   "metadata": {},
   "source": [
    "In general suppose we have N assets with prices $P_i$ for $i=1,2,...,N$. Assume the portfolio consist of $\\alpha_i$ units of the $i^{th}$ asset, known as the allocation of the asset. \n",
    "\n",
    "The value of the portfolio is: \n",
    "\n",
    "$$ P=\\sum_{i=1}^N \\alpha_i P_i $$\n",
    "\n",
    "A short position enters the portfolio with a negative sign for the allocation. "
   ]
  },
  {
   "cell_type": "markdown",
   "metadata": {},
   "source": [
    "### Carry"
   ]
  },
  {
   "cell_type": "markdown",
   "metadata": {
    "ExecuteTime": {
     "end_time": "2022-05-08T17:21:15.913182Z",
     "start_time": "2022-05-08T17:21:15.901278Z"
    }
   },
   "source": [
    "The notion of carry is a measure of the profit or loss on a bond position in a static market situation. It separates the P&L into a component consisting of the net yield the position nominally earns and a second capital gain or loss component. It is sometimes defined as the interest earned on the position minus the cost of financing the position."
   ]
  },
  {
   "cell_type": "markdown",
   "metadata": {},
   "source": [
    "### Forward Rates"
   ]
  },
  {
   "cell_type": "markdown",
   "metadata": {},
   "source": [
    "Forward rates are interest rates that can be locked in today for loan terms that are entirely in the future. The term structure of spot rates also implicitly contains information about future rates of interest. \n",
    "\n",
    "If $0<t_1<t_2$ are two future dates, then $f(t_1, t_2)$ is the interest rate which can be locked in today ($t=0$) for a loan or investment starting at $t_1$ and maturing at $t_2$. Given today's spot rate curve $r(t)$ we may determine the forward rates. This follows from arbitrage considerations. \n",
    "\n",
    "Given the spot rates $r(t_1)$, $r(t_2)$ we claim the forward rate $f(t_1, t_2)$ satisfies the equation:\n",
    "\n",
    "$$ (1+r(t_1))^{t_1}(1+f(t_1, t_2))^{t_2-t1} = (1+r(t_2))^{t_2} $$\n",
    "\n",
    "Which is called the **arbitrage relation**. In practice, forward rates are implemented by derivative contracts like interest rate futures, forward rate agreements (FRAs) and bond futures. \n",
    "\n",
    "We can write down the equation directly for the forward rate: \n",
    "\n",
    "$$ f(m,n) = \\bigg[\\frac{(1+r(n))^n}{(1+r(m))^m}\\bigg]^{\\frac{1}{n-m}}-1 $$\n",
    "\n",
    "Of particular importance are the implied spot curve 1 year forward and the curve of 1 year forwards rates. \n",
    "\n",
    "The implied spot curve 1 year forward consist of the rates $f(1,2)$, $f(1,3)$, ...,$f(1,n)$. \n",
    "\n",
    "The 1 year forward rates consist of the rates $f(1,2)$, $f(2,3)$, $f(3,4)$...\n",
    "\n",
    "The implied spot curve T years forward is exactly the yield curve that, if realized, bonds of any maturity deliver the same T-year holding return. Alternatively if the implied forward rates are realized in T years then all bond positions return the same thing as investing in T year bonds. If an investment manager invests in long term bonds and funds this by borrowing at short term rates, the position breaks even if the realized spot curve equals the forward implied curve. This is the reason for referring to forward rates as breakeven rates. \n",
    "\n",
    "The **Pure Expectations Hypothesis** is one of the classic theories of the term structure of interest rates. It is based on the arbitrage principle and the assumption that investors are risk neutral. The Pure Expectations Hypothesis (PEH) is the following proposition: Forward rates are the markets expectations of future spot rates. \n",
    "\n",
    "We consider now another scenatio which in some sense is the polar opposite of realizing forward rates: That the realized spot rates at some future time are exactly the spot rates today. This could ve viewed as a consequence of a random walk assumption for rates: if interest rates are random walks, the best prediction for the future yield curve is the yield curve today. This scenario exemplifies what is known as the **The Liquidity Premium Hypothesis** (LPH). This hypothesis asserts that investors are everse to risk and require compensation for taking on additional risk. \n",
    "\n",
    "For future calculations, let us derive the basic forward rates identity, which follows from the fundamental arbitrage relation: \n",
    "\n",
    "$$ f(m, n) = \\frac{nr(n)-mr(m)}{n-m} $$\n",
    "\n",
    "Additionaly, the 1 year annualized holding period return on an n year bond can be written as : \n",
    "\n",
    "$$ h_1(n) = \\frac{P(1,n)}{P(0,n)}-1 = \\frac{(1+r(n))^n}{(1+r(1,n))^{n-1}}-1$$\n",
    "\n",
    "Which, to first order approximation it simplifies to: \n",
    "\n",
    "$$ h_1(n) = nr(n)-(n-1)r(1,n) $$\n",
    "\n",
    "Putting together this equations it can be seen that: \n",
    "\n",
    "$$ f(1,n) = r(1,n) + \\frac{h_1(n)-r(1)}{n-1} $$\n",
    "\n",
    "If the expectations hypothesis holds, then the market predicts that interest rates in 1 year equal the forward rates today, that is, the market predicts: \n",
    "\n",
    "$$ r(1,n) = f(1,n) $$\n",
    "\n",
    "Which implies that \n",
    "\n",
    "$$ h_1(n)-r(1) = 0$$\n",
    "\n",
    "If on the other hand, the LPH holds, then:\n",
    "\n",
    "$$ r(1, n) = r(n-1) $$\n",
    "\n",
    "and the identity implies: \n",
    "\n",
    "$$ f(1,n)-r(n-1) = \\frac{h_1(n)-r(1)}{n-1} $$\n",
    "\n",
    "So in this case the forward rates predict excess returns rather than future interest rates. We can express this as a dichotomy. If the expectations hypothesis holds true then current forward rates predict future realized rates and all bonds earn the same returns. If that does not happen then, by mathematical necessity, any excess of forward rates over current spot rates is, at least partially, predictive of returns earned on bond positions. The PEH and the pure LPH represent 2 polar extremes of this possibilities. In reality, interest rates are influenced by both expectations, future rates and risk premia. "
   ]
  },
  {
   "cell_type": "markdown",
   "metadata": {},
   "source": [
    "## Interest Rate Risk"
   ]
  },
  {
   "cell_type": "markdown",
   "metadata": {},
   "source": [
    "Above all else, the central risks that are of concern in fixed income are reflected in prevailing market interest rates. Interest rates act as a proxy for a large collection of the risks that drive bond prices. "
   ]
  },
  {
   "attachments": {
    "image.png": {
     "image/png": "[encoded data removed]"
    }
   },
   "cell_type": "markdown",
   "metadata": {},
   "source": [
    "![image.png](attachment:image.png)"
   ]
  },
  {
   "cell_type": "markdown",
   "metadata": {},
   "source": [
    "Note the inverse relation between price and rates, and the convexity of the relation. From now on we will assume a flat term structure. "
   ]
  },
  {
   "cell_type": "markdown",
   "metadata": {},
   "source": [
    "### Dollar Duration and DV01"
   ]
  },
  {
   "cell_type": "markdown",
   "metadata": {},
   "source": [
    "The first measure of interest rate sensitivity is the dollar duration. Let $\\Delta r$ be a shift in the overall level of interest rates. By Taylor's theorem we have: \n",
    "\n",
    "$$ \\Delta P = P(r+\\Delta r)-P(r) $$\n",
    "\n",
    "$$ P(r+\\Delta r)-P(r) \\approx \\frac{dp}{dr}\\Delta r $$\n",
    "\n",
    "We define the dollar duration as: \n",
    "\n",
    "$$ D^$ = -\\frac{dP}{dr} $$\n",
    "\n",
    "This is just the slope of the tangent line on the corresponding point of the price-yield curve. \n",
    "\n",
    "It can be seen that for a zero coupon bond: \n",
    "\n",
    "$$ D^$ = -P'(r) = T \\frac{F}{(1+r)^{T+1}}$$\n",
    "\n",
    "For coupon bonds, an expression can be derived in terms of the discount factor: \n",
    "\n",
    "$$ D^$ = -\\sum_{j=1}^J\\frac{\\partial}{\\partial r}Z(t_j)c_j $$\n",
    "\n",
    "Dollar duration is the amount in dollars that the price changes if the interest rate shifts by 100%. This is an extremely large shift, the rescaled version of Dollar Duration is called DV01, which measures the impact of a 1bps change in interest rate levels of the security price: \n",
    "\n",
    "$$ DV01 = -\\frac{1}{10000}\\frac{dP}{dr}=\\frac{1}{10000}D^$ $$\n",
    "\n",
    "The Dollar Duration of a portfolio of bonds with allocations $\\alpha_i$ is just the linear combination of individual dollar durations: \n",
    "\n",
    "$$ D^$ = \\alpha_1 D_1^$ + \\alpha_2 D_2^$ + ... $$\n",
    "\n",
    "Suppose we hace a position in one instrument, if the dollar duration is not null, the our asset has exposure to interest rates. We say we **hedge** the position when we add other interest rate sensitive assets such that the interest rate exposure of the combined position is reduced. In the case in which we want to hedge a single asset with another, then we need to find the allocation of the hedging asset $\\phi$ that solves the equation: \n",
    "\n",
    "$$ D^$ + \\phi D^$_h = 0 $$\n",
    "\n",
    "or: \n",
    "\n",
    "$$ \\phi = -\\frac{D^$}{D^$_h}$$\n",
    "\n",
    "We call $\\phi$ the **hedging ratio**. The result is a combined position that is largely insulated from changes in interest rates so long as $\\Delta r$ is small. For the portfolio, we have: \n",
    "\n",
    "$$ \\Delta P_A(r) = -D^$_A\\Delta r + O(\\Delta r^2) = O(\\Delta r^2)$$"
   ]
  },
  {
   "cell_type": "markdown",
   "metadata": {},
   "source": [
    "### Duration"
   ]
  },
  {
   "cell_type": "markdown",
   "metadata": {},
   "source": [
    "Recall that\n",
    "\n",
    "$$ \\Delta P = P(r+\\Delta r)-P(r) \\approx \\frac{dp}{dr}\\Delta r $$\n",
    "\n",
    "Now, dividing by $P(r)$ and multiplying by -1:\n",
    "\n",
    "$$ -\\frac{P(r+\\Delta r)-P(r)}{P(r)} \\approx -\\frac{1}{P(r)}\\frac{dp}{dr}\\Delta r $$\n",
    "\n",
    "Rewriting: \n",
    "\n",
    "$$ \\frac{\\Delta P}{P} = -\\bigg[-\\frac{1}{P}\\frac{dP}{dr}\\bigg]\\Delta r $$\n",
    "\n",
    "We define **duration** as : \n",
    "\n",
    "$$ D =  -\\frac{1}{P}\\frac{dP}{dr}$$\n",
    "\n",
    "Note that duration is the percentage amount the price will drop if interest rates increase by 1%. For a zero coupon bond, teh duration has the simple expression: \n",
    "\n",
    "$$ D=\\frac{T}{1+r} $$\n",
    "\n",
    "Note that \n",
    "\n",
    "$$ D = \\frac{D^$}{P} $$\n",
    "\n",
    "For a coupon bond, the duration can be written as: \n",
    "\n",
    "$$ D = -\\frac{1}{P}\\frac{dP}{dr} = \\frac{1}{1+r}\\frac{\\sum_{j=1}^J t_j\\frac{c_j}{(1+r)^t_j}}{\\sum_{j=1}^J \\frac{c_j}{(1+r)^t_j}} $$\n",
    "\n",
    "Let us introduce the Macaulay Duration, defined as: \n",
    "\n",
    "$$ D_{Mac} = \\frac{\\sum_{j=1}^J t_j\\frac{c_j}{(1+r)^t_j}}{\\sum_{j=1}^J \\frac{c_j}{(1+r)^t_j}} $$\n",
    "\n",
    "Then: \n",
    "\n",
    "$$ D = \\frac{D_{Mac}}{1+r} $$\n",
    "\n",
    "The Macaulay duration is a weighted average of the coupon payment times where the weights are the present values of the corresponding payments. \n",
    "\n",
    "For a portfolio with N assets, the duration is given by: \n",
    "\n",
    "$$ D=\\sum_{i=1}^N\\frac{\\alpha_i P_i}{P}D_i $$\n",
    "\n",
    "Where $P$ is the value of the entire portfolio.\n",
    "\n",
    "To hedge with durations instead of dollar duration, and following the relation seen previously, we have that the hedge ratio is given by: \n",
    "\n",
    "$$ \\phi = -\\frac{P(r)D}{P_h(r)D_h}$$"
   ]
  },
  {
   "cell_type": "markdown",
   "metadata": {},
   "source": [
    "### Inmunization"
   ]
  },
  {
   "cell_type": "markdown",
   "metadata": {},
   "source": [
    "From the previous discussions about reinvestment risk and market risk of bonds we found that for short investment horizons, and increasing intrest rate lead to losses wheread for longer investment horizons it lead to profits. This is due to the competing effects of reinvestment gains and capital losses. The conjecture is that there might be a specific investment horizon for which these effects cancelled out and the position suffers no losses.\n",
    "\n",
    "It can be proven that the Macaulay duration equals exactly the investment horizon that achieves immunization. Let us rewrite this concept: \n",
    "\n",
    "If an investment is made in a bond position, and if the investment horizon equals the Macaulay duration of the invested position, then the investment is immunized againts parallel shifts of the yield curve. "
   ]
  },
  {
   "cell_type": "markdown",
   "metadata": {},
   "source": [
    "### Convexity"
   ]
  },
  {
   "cell_type": "markdown",
   "metadata": {},
   "source": [
    "Similarly to what we did with dollar duration, consider a Taylor expansion of the bond price $P(r)$ under a perturbation $\\Delta r$ of the interest rate taken to second order.\n",
    "\n",
    "$$ \\Delta P = P'(r)\\Delta r + \\frac{1}{2}P''(r)\\Delta r^2 + ... $$\n",
    "\n",
    "We denote the dollar convexity as :\n",
    "\n",
    "$$ C^$ = P''(r) $$\n",
    "\n",
    "We thus have: \n",
    "\n",
    "$$ \\Delta P = -D^$\\Delta r + \\frac{1}{2}C^$\\Delta r^2 + O(\\Delta r^3) $$\n",
    "\n",
    "The 2nd order convexity approximation improves on the linear duration based approximation. If we now divide by the price P, we have: \n",
    "\n",
    "$$ \\frac{\\Delta P }{P} \\approx -D\\Delta r +\\frac{1}{2}C\\Delta r^2  $$\n",
    "\n",
    "Giving a second order approximation to the percentage change in the bond price. Remember that this approximation still assumes that the interest rate has undergone a parallel shift. \n",
    "\n",
    "For the convexity of a portfolio we have: \n",
    "\n",
    "$$ C^{$} = \\sum_{j=1}^J \\alpha_j C_j^{$} $$\n",
    "\n",
    "Or: \n",
    "\n",
    "$$ C = \\sum_{j=1}^J \\frac{\\alpha_j P_j}{P}C_j $$"
   ]
  },
  {
   "cell_type": "markdown",
   "metadata": {},
   "source": [
    "### Convexity Hedging"
   ]
  },
  {
   "cell_type": "markdown",
   "metadata": {},
   "source": [
    "Suppose $V(r)$ is the value of our hedged position. To cancel out both duration and convexity we need: \n",
    "\n",
    "$$ V'(r)=0 $$\n",
    "$$ V''(r)=0 $$\n",
    "\n",
    "So we need two hedging instruments. Suppose P(r) is the value of the investment and $P_1(r)$ and $P_2(r)$ and the values of the 2 hedging instruments. If $\\alpha_1$ and $\\alpha_2$ are the allocations, then, we must satisfy: \n",
    "\n",
    "$$ D^{$} + \\alpha_1 D_1^{$} + \\alpha_2 D_2^{$} = 0 $$\n",
    "$$ C^{$} + \\alpha_1 C_1^{$} + \\alpha_2 C_2^{$} = 0 $$\n",
    "\n",
    "Which means: \n",
    "\n",
    "$$ \\alpha_1 = \\frac{C^$ D_2^$ - D^$C_2^$}{D_1^$C_2^$-C_1^$D_2^$} $$\n",
    "$$ \\alpha_2 = \\frac{C_1^$ D^$ - D_1^$C^$}{D_1^$C_2^$-C_1^$D_2^$} $$\n",
    "\n",
    "Or, in terms of the prices: \n",
    "\n",
    "$$ \\alpha_1 = \\frac{-P (DC_2 -CD_2)}{P_1(D_1C_2-C_1D_2)} $$\n",
    "\n",
    "$$ \\alpha_2 = \\frac{-P(DC_1-CD_1)}{P_2(D_2C_1-C_2D_1)}$$"
   ]
  }
 ],
 "metadata": {
  "kernelspec": {
   "display_name": "Python [conda env:root] *",
   "language": "python",
   "name": "conda-root-py"
  },
  "language_info": {
   "codemirror_mode": {
    "name": "ipython",
    "version": 3
   },
   "file_extension": ".py",
   "mimetype": "text/x-python",
   "name": "python",
   "nbconvert_exporter": "python",
   "pygments_lexer": "ipython3",
   "version": "3.7.6"
  },
  "latex_envs": {
   "LaTeX_envs_menu_present": true,
   "autoclose": false,
   "autocomplete": true,
   "bibliofile": "biblio.bib",
   "cite_by": "apalike",
   "current_citInitial": 1,
   "eqLabelWithNumbers": true,
   "eqNumInitial": 1,
   "hotkeys": {
    "equation": "Ctrl-E",
    "itemize": "Ctrl-I"
   },
   "labels_anchors": false,
   "latex_user_defs": false,
   "report_style_numbering": false,
   "user_envs_cfg": false
  },
  "toc": {
   "base_numbering": 1,
   "nav_menu": {},
   "number_sections": true,
   "sideBar": true,
   "skip_h1_title": true,
   "title_cell": "Table of Contents",
   "title_sidebar": "Contents",
   "toc_cell": true,
   "toc_position": {
    "height": "calc(100% - 180px)",
    "left": "10px",
    "top": "150px",
    "width": "369px"
   },
   "toc_section_display": true,
   "toc_window_display": true
  }
 },
 "nbformat": 4,
 "nbformat_minor": 4
}
