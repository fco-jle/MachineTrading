{
 "cells": [
  {
   "cell_type": "markdown",
   "metadata": {
    "toc": true
   },
   "source": [
    "<h1>Table of Contents<span class=\"tocSkip\"></span></h1>\n",
    "<div class=\"toc\"><ul class=\"toc-item\"></ul></div>"
   ]
  },
  {
   "cell_type": "code",
   "execution_count": 1,
   "metadata": {
    "ExecuteTime": {
     "end_time": "2022-05-07T11:56:16.835345Z",
     "start_time": "2022-05-07T11:56:16.676536Z"
    }
   },
   "outputs": [],
   "source": [
    "import QuantLib as ql\n",
    "import prettytable as pt\n",
    "from MachineTrading.Instruments.fixed_rate import BTP"
   ]
  },
  {
   "cell_type": "code",
   "execution_count": 41,
   "metadata": {
    "ExecuteTime": {
     "end_time": "2022-05-07T12:04:55.102353Z",
     "start_time": "2022-05-07T12:04:55.085906Z"
    }
   },
   "outputs": [],
   "source": [
    "coupon, maturityDate, issueDate = (0.90, ql.Date(1, 4, 2031), ql.Date(1, 10, 2020))\n",
    "\n",
    "eval_date = ql.Date(6, 5, 2022)\n",
    "base_yld = 3.04\n",
    "base_prc = 83.55"
   ]
  },
  {
   "cell_type": "code",
   "execution_count": 42,
   "metadata": {
    "ExecuteTime": {
     "end_time": "2022-05-07T12:04:55.532755Z",
     "start_time": "2022-05-07T12:04:55.527329Z"
    }
   },
   "outputs": [],
   "source": [
    "ql.Settings.instance().evaluationDate = eval_date"
   ]
  },
  {
   "cell_type": "code",
   "execution_count": 43,
   "metadata": {
    "ExecuteTime": {
     "end_time": "2022-05-07T12:04:55.794084Z",
     "start_time": "2022-05-07T12:04:55.788655Z"
    }
   },
   "outputs": [],
   "source": [
    "bondYield = base_yld / 100.0"
   ]
  },
  {
   "cell_type": "code",
   "execution_count": 53,
   "metadata": {
    "ExecuteTime": {
     "end_time": "2022-05-07T12:09:27.634441Z",
     "start_time": "2022-05-07T12:09:27.612121Z"
    }
   },
   "outputs": [
    {
     "name": "stdout",
     "output_type": "stream",
     "text": [
      "+----------------+----------+----------+\n",
      "|      item      | QuantLib | Expected |\n",
      "+----------------+----------+----------+\n",
      "|  clean price   | 83.5527  | 83.5500  |\n",
      "|  dirty price   | 83.6437  | 83.6339  |\n",
      "| accrued amount |  0.0910  |  0.0839  |\n",
      "+----------------+----------+----------+\n"
     ]
    }
   ],
   "source": [
    "settlementDays = 2\n",
    "faceAmount = 100.0\n",
    "\n",
    "tenor = ql.Period(ql.Semiannual)\n",
    "calendar = ql.NullCalendar()\n",
    "convention = ql.Unadjusted\n",
    "terminationDateConvention = convention\n",
    "rule = ql.DateGeneration.Backward\n",
    "endOfMonth = True\n",
    "\n",
    "schedule = ql.Schedule(issueDate, maturityDate, tenor, calendar, convention, terminationDateConvention, rule, endOfMonth)\n",
    "coupons = ql.DoubleVector(1)\n",
    "coupons[0] = coupon / 100.0\n",
    "\n",
    "accrualDayCounter = ql.ActualActual(ql.ActualActual.Bond, schedule)\n",
    "paymentConvention = ql.ModifiedFollowing\n",
    "bond = ql.FixedRateBond(settlementDays, faceAmount, schedule, coupons, accrualDayCounter, paymentConvention)\n",
    "\n",
    "curve = ql.FlatForward(eval_date, \n",
    "                       ql.QuoteHandle(ql.SimpleQuote(bondYield)), \n",
    "                       ql.ActualActual(ql.ActualActual.Bond), \n",
    "                       ql.Compounded)\n",
    "handle = ql.YieldTermStructureHandle(curve)\n",
    "handle.enableExtrapolation()\n",
    "bondEngine = ql.DiscountingBondEngine(handle)    \n",
    "bond.setPricingEngine(bondEngine)\n",
    "\n",
    "cleanPrice = bond.cleanPrice()\n",
    "dirtyPrice = bond.dirtyPrice()\n",
    "accruedAmount = bond.accruedAmount()\n",
    "\n",
    "tab = pt.PrettyTable(['item', 'QuantLib', 'Expected'])\n",
    "tab.add_row(['clean price', cleanPrice, base_prc])\n",
    "tab.add_row(['dirty price', dirtyPrice, base_prc+0.08391])\n",
    "tab.add_row(['accrued amount', accruedAmount, 0.08391])\n",
    "tab.float_format = '.4'\n",
    "\n",
    "print(tab)"
   ]
  }
 ],
 "metadata": {
  "kernelspec": {
   "display_name": "Python [conda env:root] *",
   "language": "python",
   "name": "conda-root-py"
  },
  "language_info": {
   "codemirror_mode": {
    "name": "ipython",
    "version": 3
   },
   "file_extension": ".py",
   "mimetype": "text/x-python",
   "name": "python",
   "nbconvert_exporter": "python",
   "pygments_lexer": "ipython3",
   "version": "3.7.6"
  },
  "latex_envs": {
   "LaTeX_envs_menu_present": true,
   "autoclose": false,
   "autocomplete": true,
   "bibliofile": "biblio.bib",
   "cite_by": "apalike",
   "current_citInitial": 1,
   "eqLabelWithNumbers": true,
   "eqNumInitial": 1,
   "hotkeys": {
    "equation": "Ctrl-E",
    "itemize": "Ctrl-I"
   },
   "labels_anchors": false,
   "latex_user_defs": false,
   "report_style_numbering": false,
   "user_envs_cfg": false
  },
  "toc": {
   "base_numbering": 1,
   "nav_menu": {},
   "number_sections": true,
   "sideBar": true,
   "skip_h1_title": true,
   "title_cell": "Table of Contents",
   "title_sidebar": "Contents",
   "toc_cell": true,
   "toc_position": {},
   "toc_section_display": true,
   "toc_window_display": false
  }
 },
 "nbformat": 4,
 "nbformat_minor": 4
}
