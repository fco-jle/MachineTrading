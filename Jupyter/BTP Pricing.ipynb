{
 "cells": [
  {
   "cell_type": "code",
   "execution_count": 1,
   "metadata": {},
   "outputs": [],
   "source": [
    "import QuantLib as ql\n",
    "import prettytable as pt"
   ]
  },
  {
   "cell_type": "code",
   "execution_count": 2,
   "metadata": {},
   "outputs": [],
   "source": [
    "coupon, maturityDate, issueDate = (0.90, ql.Date(1, 4, 2031), ql.Date(1, 10, 2020))\n",
    "eval_date = ql.Date(1, 4, 2022)\n",
    "base_yld = 2.0\n",
    "base_prc = 91.04"
   ]
  },
  {
   "cell_type": "code",
   "execution_count": 3,
   "metadata": {},
   "outputs": [],
   "source": [
    "ql.Settings.instance().evaluationDate = ql.Date(1, 4, 2022)"
   ]
  },
  {
   "cell_type": "code",
   "execution_count": 4,
   "metadata": {},
   "outputs": [],
   "source": [
    "bondYield = 2.0 / 100.0"
   ]
  },
  {
   "cell_type": "code",
   "execution_count": 25,
   "metadata": {},
   "outputs": [
    {
     "name": "stdout",
     "output_type": "stream",
     "text": [
      "+----------------+----------+----------+\n",
      "|      item      | QuantLib | Expected |\n",
      "+----------------+----------+----------+\n",
      "|  clean price   | 91.0680  | 91.0400  |\n",
      "|  dirty price   | 91.0778  | 91.0498  |\n",
      "| accrued amount |  0.0098  |  0.0098  |\n",
      "+----------------+----------+----------+\n"
     ]
    }
   ],
   "source": [
    "settlementDays = 2\n",
    "faceAmount = 100.0\n",
    "\n",
    "tenor = ql.Period(ql.Semiannual)\n",
    "calendar = ql.Italy()\n",
    "convention = ql.Unadjusted\n",
    "terminationDateConvention = convention\n",
    "rule = ql.DateGeneration.Backward\n",
    "endOfMonth = False\n",
    "\n",
    "schedule = ql.Schedule(issueDate, maturityDate, tenor, calendar, convention, terminationDateConvention, rule, endOfMonth)\n",
    "coupons = ql.DoubleVector(1)\n",
    "coupons[0] = coupon / 100.0\n",
    "\n",
    "accrualDayCounter = ql.ActualActual(ql.ActualActual.Bond, schedule)\n",
    "paymentConvention = ql.Unadjusted\n",
    "bond = ql.FixedRateBond(settlementDays, faceAmount, schedule, coupons, accrualDayCounter, paymentConvention)\n",
    "\n",
    "curve = ql.FlatForward(eval_date, \n",
    "                       ql.QuoteHandle(ql.SimpleQuote(bondYield)), \n",
    "                       accrualDayCounter, \n",
    "                       ql.Compounded)\n",
    "handle = ql.YieldTermStructureHandle(curve)\n",
    "handle.enableExtrapolation()\n",
    "bondEngine = ql.DiscountingBondEngine(handle)    \n",
    "bond.setPricingEngine(bondEngine)\n",
    "\n",
    "cleanPrice = bond.cleanPrice()\n",
    "dirtyPrice = bond.dirtyPrice()\n",
    "accruedAmount = bond.accruedAmount()\n",
    "\n",
    "tab = pt.PrettyTable(['item', 'QuantLib', 'Expected'])\n",
    "tab.add_row(['clean price', cleanPrice, base_prc])\n",
    "tab.add_row(['dirty price', dirtyPrice, base_prc+0.0098])\n",
    "tab.add_row(['accrued amount', accruedAmount, 0.0098])\n",
    "tab.float_format = '.4'\n",
    "\n",
    "print(tab)"
   ]
  }
 ],
 "metadata": {
  "kernelspec": {
   "display_name": "Python [conda env:root] *",
   "language": "python",
   "name": "conda-root-py"
  },
  "language_info": {
   "codemirror_mode": {
    "name": "ipython",
    "version": 3
   },
   "file_extension": ".py",
   "mimetype": "text/x-python",
   "name": "python",
   "nbconvert_exporter": "python",
   "pygments_lexer": "ipython3",
   "version": "3.7.6"
  }
 },
 "nbformat": 4,
 "nbformat_minor": 4
}
