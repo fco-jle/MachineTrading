{
 "cells": [
  {
   "cell_type": "markdown",
   "metadata": {},
   "source": [
    "# Finding Cheapest To Deliver in a Futures Contract"
   ]
  },
  {
   "cell_type": "code",
   "execution_count": 1,
   "metadata": {},
   "outputs": [],
   "source": [
    "import pandas as pd\n",
    "import QuantLib as ql\n",
    "from MachineTrading.Instruments.fixed_rate import FixedRateBond"
   ]
  },
  {
   "attachments": {},
   "cell_type": "markdown",
   "metadata": {},
   "source": [
    "Maturity: Jun 22\n",
    "\n",
    "Settlement Price: 137.13"
   ]
  },
  {
   "cell_type": "code",
   "execution_count": 2,
   "metadata": {},
   "outputs": [],
   "source": [
    "mts_data = pd.read_csv(r\"C:/Users/Usuario/Downloads/deliverable-bonds-and-conversion-factors (1).csv\", sep=';')"
   ]
  },
  {
   "cell_type": "code",
   "execution_count": 3,
   "metadata": {},
   "outputs": [
    {
     "data": {
      "text/html": [
       "<div>\n",
       "<style scoped>\n",
       "    .dataframe tbody tr th:only-of-type {\n",
       "        vertical-align: middle;\n",
       "    }\n",
       "\n",
       "    .dataframe tbody tr th {\n",
       "        vertical-align: top;\n",
       "    }\n",
       "\n",
       "    .dataframe thead th {\n",
       "        text-align: right;\n",
       "    }\n",
       "</style>\n",
       "<table border=\"1\" class=\"dataframe\">\n",
       "  <thead>\n",
       "    <tr style=\"text-align: right;\">\n",
       "      <th></th>\n",
       "      <th>#Contract</th>\n",
       "      <th>ISIN</th>\n",
       "      <th>Coupon</th>\n",
       "      <th>Maturity</th>\n",
       "      <th>ConvFac</th>\n",
       "    </tr>\n",
       "  </thead>\n",
       "  <tbody>\n",
       "    <tr>\n",
       "      <th>44</th>\n",
       "      <td>FBTP JUN 2022</td>\n",
       "      <td>IT0005422891</td>\n",
       "      <td>0.90</td>\n",
       "      <td>01.04.2031</td>\n",
       "      <td>0.659620</td>\n",
       "    </tr>\n",
       "    <tr>\n",
       "      <th>45</th>\n",
       "      <td>FBTP JUN 2022</td>\n",
       "      <td>IT0005436693</td>\n",
       "      <td>0.60</td>\n",
       "      <td>01.08.2031</td>\n",
       "      <td>0.628867</td>\n",
       "    </tr>\n",
       "    <tr>\n",
       "      <th>46</th>\n",
       "      <td>FBTP JUN 2022</td>\n",
       "      <td>IT0005449969</td>\n",
       "      <td>0.95</td>\n",
       "      <td>01.12.2031</td>\n",
       "      <td>0.643888</td>\n",
       "    </tr>\n",
       "    <tr>\n",
       "      <th>47</th>\n",
       "      <td>FBTP JUN 2022</td>\n",
       "      <td>IT0005466013</td>\n",
       "      <td>0.95</td>\n",
       "      <td>01.06.2032</td>\n",
       "      <td>0.630012</td>\n",
       "    </tr>\n",
       "  </tbody>\n",
       "</table>\n",
       "</div>"
      ],
      "text/plain": [
       "        #Contract          ISIN  Coupon    Maturity   ConvFac\n",
       "44  FBTP JUN 2022  IT0005422891    0.90  01.04.2031  0.659620\n",
       "45  FBTP JUN 2022  IT0005436693    0.60  01.08.2031  0.628867\n",
       "46  FBTP JUN 2022  IT0005449969    0.95  01.12.2031  0.643888\n",
       "47  FBTP JUN 2022  IT0005466013    0.95  01.06.2032  0.630012"
      ]
     },
     "execution_count": 3,
     "metadata": {},
     "output_type": "execute_result"
    }
   ],
   "source": [
    "mts_data[mts_data['#Contract']=='FBTP JUN 2022']"
   ]
  },
  {
   "cell_type": "code",
   "execution_count": 4,
   "metadata": {},
   "outputs": [
    {
     "name": "stdout",
     "output_type": "stream",
     "text": [
      "Minimum Basis                  = 1.124437\n",
      "Conversion Factor              = 0.654019\n",
      "Coupon                         = 0.900000\n",
      "Maturity                       = April 1st, 2031\n",
      "Price                          = 90.810000\n"
     ]
    }
   ],
   "source": [
    "basket = [(0.90, ql.Date(1, 4, 2031), ql.Date(1, 10, 2020), 90.81),\n",
    "          (0.60, ql.Date(1, 8, 2031), ql.Date(23, 2, 2021), 88.5),\n",
    "          (0.95, ql.Date(1, 12, 2031), ql.Date(1, 6, 2021), 91.0),\n",
    "          (0.95, ql.Date(1, 6, 2032), ql.Date(1, 11, 2021), 90.09)]\n",
    "\n",
    "securities = []\n",
    "min_basis = 100\n",
    "min_basis_index = -1\n",
    "calc_date = ql.Date(30, 3, 2022)\n",
    "f_price = 137.13\n",
    "for i, b in enumerate(basket):\n",
    "    coupon, maturity, issue, price = b\n",
    "    s = FixedRateBond(issue, maturity, coupon, settlement_days=2)\n",
    "    cf, basis = s.futures_contract_conversion_factor(bond_price=price, futures_price=f_price, eval_date=calc_date)\n",
    "    if basis < min_basis:\n",
    "        min_basis = basis\n",
    "        min_basis_index = i\n",
    "    securities.append((s, cf))\n",
    "\n",
    "ctd_info = basket[min_basis_index]\n",
    "ctd_bond, ctd_cf = securities[min_basis_index]\n",
    "ctd_price = ctd_info[3]\n",
    "\n",
    "print(\"%-30s = %lf\" % (\"Minimum Basis\", min_basis))\n",
    "print(\"%-30s = %lf\" % (\"Conversion Factor\", ctd_cf))\n",
    "print(\"%-30s = %lf\" % (\"Coupon\", ctd_info[0]))\n",
    "print(\"%-30s = %s\" % (\"Maturity\", ctd_info[1]))\n",
    "print(\"%-30s = %lf\" % (\"Price\", ctd_info[3]))"
   ]
  },
  {
   "cell_type": "code",
   "execution_count": null,
   "metadata": {},
   "outputs": [],
   "source": []
  }
 ],
 "metadata": {
  "kernelspec": {
   "display_name": "Python 3",
   "language": "python",
   "name": "python3"
  },
  "language_info": {
   "codemirror_mode": {
    "name": "ipython",
    "version": 3
   },
   "file_extension": ".py",
   "mimetype": "text/x-python",
   "name": "python",
   "nbconvert_exporter": "python",
   "pygments_lexer": "ipython3",
   "version": "3.7.6"
  }
 },
 "nbformat": 4,
 "nbformat_minor": 4
}
