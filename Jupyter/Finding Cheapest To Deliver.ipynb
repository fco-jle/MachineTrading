{
 "cells": [
  {
   "cell_type": "markdown",
   "metadata": {},
   "source": [
    "# Finding Cheapest To Deliver in a Futures Contract"
   ]
  },
  {
   "cell_type": "code",
   "execution_count": 2,
   "metadata": {},
   "outputs": [],
   "source": [
    "import pandas as pd\n",
    "import QuantLib as ql\n",
    "from MachineTrading.Instruments.fixed_rate import FixedRateBond"
   ]
  },
  {
   "cell_type": "markdown",
   "metadata": {},
   "source": [
    "Read Actual EUREX data for date 2022-04-01"
   ]
  },
  {
   "cell_type": "code",
   "execution_count": 3,
   "metadata": {},
   "outputs": [],
   "source": [
    "mts_data = pd.read_csv(r\"JupyterResources/deliverable-2022-04-01.csv\", sep=';')"
   ]
  },
  {
   "cell_type": "code",
   "execution_count": 12,
   "metadata": {},
   "outputs": [
    {
     "data": {
      "text/html": [
       "<div>\n",
       "<style scoped>\n",
       "    .dataframe tbody tr th:only-of-type {\n",
       "        vertical-align: middle;\n",
       "    }\n",
       "\n",
       "    .dataframe tbody tr th {\n",
       "        vertical-align: top;\n",
       "    }\n",
       "\n",
       "    .dataframe thead th {\n",
       "        text-align: right;\n",
       "    }\n",
       "</style>\n",
       "<table border=\"1\" class=\"dataframe\">\n",
       "  <thead>\n",
       "    <tr style=\"text-align: right;\">\n",
       "      <th></th>\n",
       "      <th>#Contract</th>\n",
       "      <th>ISIN</th>\n",
       "      <th>Coupon</th>\n",
       "      <th>Maturity</th>\n",
       "      <th>ConvFac</th>\n",
       "    </tr>\n",
       "  </thead>\n",
       "  <tbody>\n",
       "    <tr>\n",
       "      <th>44</th>\n",
       "      <td>FBTP JUN 2022</td>\n",
       "      <td>IT0005422891</td>\n",
       "      <td>0.90</td>\n",
       "      <td>01.04.2031</td>\n",
       "      <td>0.659620</td>\n",
       "    </tr>\n",
       "    <tr>\n",
       "      <th>45</th>\n",
       "      <td>FBTP JUN 2022</td>\n",
       "      <td>IT0005436693</td>\n",
       "      <td>0.60</td>\n",
       "      <td>01.08.2031</td>\n",
       "      <td>0.628867</td>\n",
       "    </tr>\n",
       "    <tr>\n",
       "      <th>46</th>\n",
       "      <td>FBTP JUN 2022</td>\n",
       "      <td>IT0005449969</td>\n",
       "      <td>0.95</td>\n",
       "      <td>01.12.2031</td>\n",
       "      <td>0.643888</td>\n",
       "    </tr>\n",
       "    <tr>\n",
       "      <th>47</th>\n",
       "      <td>FBTP JUN 2022</td>\n",
       "      <td>IT0005466013</td>\n",
       "      <td>0.95</td>\n",
       "      <td>01.06.2032</td>\n",
       "      <td>0.630012</td>\n",
       "    </tr>\n",
       "  </tbody>\n",
       "</table>\n",
       "</div>"
      ],
      "text/plain": [
       "        #Contract          ISIN  Coupon    Maturity   ConvFac\n",
       "44  FBTP JUN 2022  IT0005422891    0.90  01.04.2031  0.659620\n",
       "45  FBTP JUN 2022  IT0005436693    0.60  01.08.2031  0.628867\n",
       "46  FBTP JUN 2022  IT0005449969    0.95  01.12.2031  0.643888\n",
       "47  FBTP JUN 2022  IT0005466013    0.95  01.06.2032  0.630012"
      ]
     },
     "execution_count": 12,
     "metadata": {},
     "output_type": "execute_result"
    }
   ],
   "source": [
    "deliverable = mts_data[mts_data['#Contract']=='FBTP JUN 2022'].copy()\n",
    "deliverable"
   ]
  },
  {
   "cell_type": "code",
   "execution_count": 8,
   "metadata": {},
   "outputs": [
    {
     "name": "stdout",
     "output_type": "stream",
     "text": [
      "Minimum Basis                  = 0.085862\n",
      "Conversion Factor              = 0.659620\n",
      "Coupon                         = 0.900000\n",
      "Maturity                       = April 1st, 2031\n",
      "Price                          = 90.810000\n"
     ]
    }
   ],
   "source": [
    "date = ql.Date(1, 4, 2022)\n",
    "\n",
    "# Set the basket of deliverables:\n",
    "basket = [(0.90, ql.Date(1, 4, 2031), ql.Date(1, 10, 2020), 90.81), # IT0005422891  ->  0.659620\n",
    "          (0.60, ql.Date(1, 8, 2031), ql.Date(23, 2, 2021), 88.5),  # IT0005436693  ->  0.628867\n",
    "          (0.95, ql.Date(1, 12, 2031), ql.Date(1, 6, 2021), 91.0),  # IT0005449969  ->  0.643888\n",
    "          (0.95, ql.Date(1, 6, 2032), ql.Date(1, 11, 2021), 90.09)  # IT0005466013  ->  0.630012\n",
    "          ]\n",
    "\n",
    "f_price = 137.54  # FBTP Settlement Price\n",
    "f_delivery = ql.Date(10,6,2022)  # Delivery date for FBTP\n",
    "\n",
    "securities = []\n",
    "min_basis = 100\n",
    "min_basis_index = -1\n",
    "for i, b in enumerate(basket):\n",
    "    coupon, maturity, issue, price = b\n",
    "    \n",
    "    # Set the bond: \n",
    "    s = FixedRateBond(issue, maturity, coupon, settlement_days=0, calendar=ql.Germany())\n",
    "    \n",
    "    # Compute conversion factors and basis\n",
    "    cf, basis = s.futures_contract_conversion_factor(bond_price=price, futures_price=f_price,\n",
    "                                                     futures_delivery_date=f_delivery)\n",
    "    # Check for CTD\n",
    "    if basis < min_basis:\n",
    "        min_basis = basis\n",
    "        min_basis_index = i\n",
    "    securities.append((s, cf, basis))\n",
    "\n",
    "ctd_info = basket[min_basis_index]\n",
    "ctd_bond, ctd_cf, ctd_basis = securities[min_basis_index]\n",
    "ctd_price = ctd_info[3]\n",
    "\n",
    "print(\"%-30s = %lf\" % (\"Minimum Basis\", min_basis))\n",
    "print(\"%-30s = %lf\" % (\"Conversion Factor\", ctd_cf))\n",
    "print(\"%-30s = %lf\" % (\"Coupon\", ctd_info[0]))\n",
    "print(\"%-30s = %s\" % (\"Maturity\", ctd_info[1]))\n",
    "print(\"%-30s = %lf\" % (\"Price\", ctd_info[3]))\n"
   ]
  },
  {
   "cell_type": "code",
   "execution_count": 11,
   "metadata": {},
   "outputs": [
    {
     "data": {
      "text/plain": [
       "[0.65962, 0.628867, 0.643888, 0.630012]"
      ]
     },
     "execution_count": 11,
     "metadata": {},
     "output_type": "execute_result"
    }
   ],
   "source": [
    "[round(x[1],6) for x in securities]"
   ]
  },
  {
   "cell_type": "code",
   "execution_count": 14,
   "metadata": {},
   "outputs": [],
   "source": [
    "deliverable['ComputedConvFac'] = [round(x[1],6) for x in securities]\n",
    "deliverable['ComputedBasis'] = [round(x[2],6) for x in securities]"
   ]
  },
  {
   "cell_type": "code",
   "execution_count": 15,
   "metadata": {},
   "outputs": [
    {
     "data": {
      "text/html": [
       "<div>\n",
       "<style scoped>\n",
       "    .dataframe tbody tr th:only-of-type {\n",
       "        vertical-align: middle;\n",
       "    }\n",
       "\n",
       "    .dataframe tbody tr th {\n",
       "        vertical-align: top;\n",
       "    }\n",
       "\n",
       "    .dataframe thead th {\n",
       "        text-align: right;\n",
       "    }\n",
       "</style>\n",
       "<table border=\"1\" class=\"dataframe\">\n",
       "  <thead>\n",
       "    <tr style=\"text-align: right;\">\n",
       "      <th></th>\n",
       "      <th>#Contract</th>\n",
       "      <th>ISIN</th>\n",
       "      <th>Coupon</th>\n",
       "      <th>Maturity</th>\n",
       "      <th>ConvFac</th>\n",
       "      <th>ComputedConvFac</th>\n",
       "      <th>ComputedBasis</th>\n",
       "    </tr>\n",
       "  </thead>\n",
       "  <tbody>\n",
       "    <tr>\n",
       "      <th>44</th>\n",
       "      <td>FBTP JUN 2022</td>\n",
       "      <td>IT0005422891</td>\n",
       "      <td>0.90</td>\n",
       "      <td>01.04.2031</td>\n",
       "      <td>0.659620</td>\n",
       "      <td>0.659620</td>\n",
       "      <td>0.085862</td>\n",
       "    </tr>\n",
       "    <tr>\n",
       "      <th>45</th>\n",
       "      <td>FBTP JUN 2022</td>\n",
       "      <td>IT0005436693</td>\n",
       "      <td>0.60</td>\n",
       "      <td>01.08.2031</td>\n",
       "      <td>0.628867</td>\n",
       "      <td>0.628867</td>\n",
       "      <td>2.005626</td>\n",
       "    </tr>\n",
       "    <tr>\n",
       "      <th>46</th>\n",
       "      <td>FBTP JUN 2022</td>\n",
       "      <td>IT0005449969</td>\n",
       "      <td>0.95</td>\n",
       "      <td>01.12.2031</td>\n",
       "      <td>0.643888</td>\n",
       "      <td>0.643888</td>\n",
       "      <td>2.439676</td>\n",
       "    </tr>\n",
       "    <tr>\n",
       "      <th>47</th>\n",
       "      <td>FBTP JUN 2022</td>\n",
       "      <td>IT0005466013</td>\n",
       "      <td>0.95</td>\n",
       "      <td>01.06.2032</td>\n",
       "      <td>0.630012</td>\n",
       "      <td>0.630012</td>\n",
       "      <td>3.438088</td>\n",
       "    </tr>\n",
       "  </tbody>\n",
       "</table>\n",
       "</div>"
      ],
      "text/plain": [
       "        #Contract          ISIN  Coupon    Maturity   ConvFac  \\\n",
       "44  FBTP JUN 2022  IT0005422891    0.90  01.04.2031  0.659620   \n",
       "45  FBTP JUN 2022  IT0005436693    0.60  01.08.2031  0.628867   \n",
       "46  FBTP JUN 2022  IT0005449969    0.95  01.12.2031  0.643888   \n",
       "47  FBTP JUN 2022  IT0005466013    0.95  01.06.2032  0.630012   \n",
       "\n",
       "    ComputedConvFac  ComputedBasis  \n",
       "44         0.659620       0.085862  \n",
       "45         0.628867       2.005626  \n",
       "46         0.643888       2.439676  \n",
       "47         0.630012       3.438088  "
      ]
     },
     "execution_count": 15,
     "metadata": {},
     "output_type": "execute_result"
    }
   ],
   "source": [
    "deliverable"
   ]
  }
 ],
 "metadata": {
  "kernelspec": {
   "display_name": "Python 3",
   "language": "python",
   "name": "python3"
  },
  "language_info": {
   "codemirror_mode": {
    "name": "ipython",
    "version": 3
   },
   "file_extension": ".py",
   "mimetype": "text/x-python",
   "name": "python",
   "nbconvert_exporter": "python",
   "pygments_lexer": "ipython3",
   "version": "3.7.6"
  }
 },
 "nbformat": 4,
 "nbformat_minor": 4
}
