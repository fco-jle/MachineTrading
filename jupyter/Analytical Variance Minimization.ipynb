{
 "cells": [
  {
   "cell_type": "markdown",
   "metadata": {},
   "source": [
    "# Variance Minimization - 2 assets"
   ]
  },
  {
   "cell_type": "markdown",
   "metadata": {},
   "source": [
    "Let the portfolio variance be: \n",
    "\n",
    "$$\\sigma^2 = w^TCw$$\n",
    "\n",
    "Where w is the weights vector and C the covariance matrix. Suppose we have only 2 assets, and we have a particular notional amount of asset 1. Then, the minimum variance portfolio will be achieved if:\n",
    "\n",
    "$$\\frac{\\partial \\sigma}{\\partial v_2} = 0$$\n",
    "\n",
    "Solving for $v_2$: \n",
    "$$\\frac{\\partial \\sigma}{\\partial v_2} = \\frac{\\partial w^T}{\\partial v_2} C w + w^TC\\frac{\\partial w}{\\partial v_2}$$\n",
    "\n",
    "But: \n",
    "$$ w= (\\frac{v_1}{v_1+v_2}, \\frac{v_2}{v_1+v_2}) $$\n",
    "\n",
    "Hence: \n",
    "\n",
    "$$ \\frac{\\partial w}{\\partial v_2} = \\frac{v_1}{(v_1+v_2)^2}(-1, 1) $$\n",
    "\n",
    "And: \n",
    "$$\\frac{\\partial \\sigma}{\\partial v_2} = \\frac{2v_1}{(v_1+v_2)^3} (-v_1\\sigma_1^2+v_2\\sigma_2^2+v_1C_{12}-v2C_{12}) $$\n",
    "\n",
    "So the portfolio value of the second asset is given by: \n",
    "$$ v_2 = v_1 \\frac{C_{12}-\\sigma_1^2}{C_{12}-\\sigma_2^2} $$"
   ]
  },
  {
   "cell_type": "markdown",
   "metadata": {},
   "source": [
    "# Variance Minimization - 3 Assets"
   ]
  },
  {
   "cell_type": "markdown",
   "metadata": {},
   "source": [
    "If we have three assets, such that:\n",
    "\n",
    "$$ w= (\\frac{v_1}{v_1+v_2+v_3}, \\frac{v_2}{v_1+v_2+v_3}, \\frac{v_3}{v_1+v_2+v_3}) $$\n",
    "\n",
    "Suppose we have some volume for assets 1 and 2, and want to find the value of the third asset that minimizes the variance of the portfolio, then, the value of the third asset is given by: \n",
    "\n",
    "$$ v_3 = \\frac{-v_1^2\\sigma_1^2-v_2^2\\sigma_2^2-2v_1v_2C_{12}+(v_1+v_2)(v_1C_{13}+v_2C_{23})}{v_1C_{13}+v_2C_{23}-(v_1+v_2)\\sigma_3^2} $$\n",
    "\n",
    "Which can be simplied, suppose we want to find the portfolio value for asset $k$, then:\n",
    "\n",
    "$$ v_k = \\frac{\\sum_{i,j}v_iv_j(C_{jk}-C_{ij})}{\\sum_{i}v_i (C_{ik} - \\sigma_k^2)}$$"
   ]
  },
  {
   "cell_type": "markdown",
   "metadata": {},
   "source": [
    "# Variance Minimzation - N Assets (2 Hedge Assets)"
   ]
  },
  {
   "cell_type": "markdown",
   "metadata": {},
   "source": [
    "Suppose that we have N assets and use assets 1 and 2 to hedge by minimizing variance, then we have the set of equations: \n",
    "\n",
    "$$ v_1 = \\frac{\\sum_{i,j}v_iv_j(C_{j1}-C_{ij})}{\\sum_{i}v_i (C_{i1} - \\sigma_1^2)}$$\n",
    "\n",
    "$$ v_2 = \\frac{\\sum_{i,j}v_iv_j(C_{j2}-C_{ij})}{\\sum_{i}v_i (C_{i2} - \\sigma_2^2)}$$"
   ]
  }
 ],
 "metadata": {
  "kernelspec": {
   "display_name": "Python [conda env:root] *",
   "language": "python",
   "name": "conda-root-py"
  },
  "language_info": {
   "codemirror_mode": {
    "name": "ipython",
    "version": 3
   },
   "file_extension": ".py",
   "mimetype": "text/x-python",
   "name": "python",
   "nbconvert_exporter": "python",
   "pygments_lexer": "ipython3",
   "version": "3.7.6"
  }
 },
 "nbformat": 4,
 "nbformat_minor": 4
}
