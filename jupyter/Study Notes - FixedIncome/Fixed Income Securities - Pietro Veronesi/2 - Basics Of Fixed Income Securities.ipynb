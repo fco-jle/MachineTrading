{
 "cells": [
  {
   "cell_type": "markdown",
   "metadata": {
    "toc": true
   },
   "source": [
    "<h1>Table of Contents<span class=\"tocSkip\"></span></h1>\n",
    "<div class=\"toc\"><ul class=\"toc-item\"><li><span><a href=\"#Basics-Of-Fixed-Income-Securities\" data-toc-modified-id=\"Basics-Of-Fixed-Income-Securities-1\"><span class=\"toc-item-num\">1&nbsp;&nbsp;</span>Basics Of Fixed Income Securities</a></span><ul class=\"toc-item\"><li><span><a href=\"#Discount-Factors\" data-toc-modified-id=\"Discount-Factors-1.1\"><span class=\"toc-item-num\">1.1&nbsp;&nbsp;</span>Discount Factors</a></span></li><li><span><a href=\"#Discount-Factors-Over-Time\" data-toc-modified-id=\"Discount-Factors-Over-Time-1.2\"><span class=\"toc-item-num\">1.2&nbsp;&nbsp;</span>Discount Factors Over Time</a></span></li><li><span><a href=\"#Interest-Rates\" data-toc-modified-id=\"Interest-Rates-1.3\"><span class=\"toc-item-num\">1.3&nbsp;&nbsp;</span>Interest Rates</a></span><ul class=\"toc-item\"><li><span><a href=\"#Discount-Factors,-Interest-Rates,-and-Compounding-Frequencies\" data-toc-modified-id=\"Discount-Factors,-Interest-Rates,-and-Compounding-Frequencies-1.3.1\"><span class=\"toc-item-num\">1.3.1&nbsp;&nbsp;</span>Discount Factors, Interest Rates, and Compounding Frequencies</a></span></li><li><span><a href=\"#The-Term-Structure-Of-Interest-Rates\" data-toc-modified-id=\"The-Term-Structure-Of-Interest-Rates-1.3.2\"><span class=\"toc-item-num\">1.3.2&nbsp;&nbsp;</span>The Term Structure Of Interest Rates</a></span></li></ul></li><li><span><a href=\"#Coupon-Bonds\" data-toc-modified-id=\"Coupon-Bonds-1.4\"><span class=\"toc-item-num\">1.4&nbsp;&nbsp;</span>Coupon Bonds</a></span><ul class=\"toc-item\"><li><span><a href=\"#From-Coupon-Bonds-to-Zero-Coupon-Bonds\" data-toc-modified-id=\"From-Coupon-Bonds-to-Zero-Coupon-Bonds-1.4.1\"><span class=\"toc-item-num\">1.4.1&nbsp;&nbsp;</span>From Coupon Bonds to Zero Coupon Bonds</a></span></li><li><span><a href=\"#Expected-Return-and-the-Yield-To-Maturity\" data-toc-modified-id=\"Expected-Return-and-the-Yield-To-Maturity-1.4.2\"><span class=\"toc-item-num\">1.4.2&nbsp;&nbsp;</span>Expected Return and the Yield To Maturity</a></span></li></ul></li><li><span><a href=\"#Quoting-Conventions\" data-toc-modified-id=\"Quoting-Conventions-1.5\"><span class=\"toc-item-num\">1.5&nbsp;&nbsp;</span>Quoting Conventions</a></span></li></ul></li></ul></div>"
   ]
  },
  {
   "cell_type": "markdown",
   "metadata": {},
   "source": [
    "## Basics Of Fixed Income Securities"
   ]
  },
  {
   "cell_type": "markdown",
   "metadata": {},
   "source": [
    "### Discount Factors"
   ]
  },
  {
   "cell_type": "markdown",
   "metadata": {},
   "source": [
    "The value of what $1 in the future would be in today’s\n",
    "money is called the discount factor.\n",
    "\n",
    "**Definition 2.1** The discount factor between two dates, t and T, provides the term of\n",
    "exchange between a given amount of money at t versus a (certain) amount of money at a\n",
    "later date T. We denote the discount factor between these two dates by Z(t, T).\n",
    "\n",
    "In short, the discount factor Z(t, T) records the time value of money between t and T.\n",
    "\n",
    "In this sense, the notion of a discount factor is un-ambiguous. In contrast, as we\n",
    "shall see below, the related notion of an interest rate is not un-ambiguous, as it depends\n",
    "on compounding frequency, for instance.\n",
    "\n",
    "The discount factor at some date t (e.g., August 10, 2006) depends on its maturity T (e.g., February 8, 2007). If we vary the maturity T, making it longer or shorter, the discount factor varies as well. In fact, for the same reason that investors value 1 dollar today more than 1 dollar in six months, they also value 1 dollar in three months more than 1 dollar in six months.\n",
    "\n",
    "**Fact 2.1** At any given time t, the discount factor is lower, the longer the maturity T. That\n",
    "is, given two dates $T_1$ and $T_2$ with $T_1 < T_2$ , it is always the case that:\n",
    "\n",
    "$$ Z(t, T_1) \\geq Z(t, T_2) $$"
   ]
  },
  {
   "cell_type": "markdown",
   "metadata": {},
   "source": [
    "### Discount Factors Over Time"
   ]
  },
  {
   "cell_type": "markdown",
   "metadata": {},
   "source": [
    "A second important characteristic of discount factors is that they are not constant over time,\n",
    "even while keeping constant the time-to-maturity T −t, that is, the interval of time between\n",
    "the two dates t and T in the discount factor Z(t, T). As time goes by, the time value of\n",
    "money changes."
   ]
  },
  {
   "cell_type": "markdown",
   "metadata": {},
   "source": [
    "<img src=\"Images\\DiscountFactorsOverTime.PNG\"> "
   ]
  },
  {
   "cell_type": "markdown",
   "metadata": {},
   "source": [
    "Why do discount factors vary over time? Although this is a topic of a later chapter,\n",
    "it is useful to provide here the most obvious, and intuitive, reason. The next figure shows the evolution of expected inflation:\n",
    "\n",
    "<img src=\"Images\\ExpectedInflation.JPG\"> "
   ]
  },
  {
   "cell_type": "markdown",
   "metadata": {},
   "source": [
    "Inflation is exactly what determines the time value of money, as it\n",
    "determines how much goods money can buy. The higher the expected inflation, the less\n",
    "appealing it is to receive money in the future compared to today, as this money will be able\n",
    "to buy a lesser amount of goods. Although expected inflation is the most obvious culprit in explaining the variation over\n",
    "time of discount factors, it is not the only one. Later we will look at various explanations\n",
    "that economists put forward to account for the behavior of discount factors and interest\n",
    "rates."
   ]
  },
  {
   "cell_type": "markdown",
   "metadata": {},
   "source": [
    "### Interest Rates"
   ]
  },
  {
   "cell_type": "markdown",
   "metadata": {},
   "source": [
    "The concept of an interest rate, however, is more complicated, because it depends on\n",
    "the compounding frequency of the interest paid on the initial investment. The compounding\n",
    "frequency is defined as follows:\n",
    "\n",
    "Definition 2.2 The compounding frequency of interest accruals refers to the annual\n",
    "number of times in which interest is paid and reinvested on the invested capital. Indeed, to some extent, mentioning only an interest rate level is an incomplete description of the rate of return of an investment, or the cost of a loan or mortgage. The compounding frequency is a crucial element that must be attached to the interest rate figure.\n",
    "\n",
    "Fact 2.2 For a given interest rate figure (e.g. 5%), more frequent accrual of interest yields\n",
    "a higher final payoff.\n",
    "\n",
    "Fact 2.3 For a given final payoff, more frequent accrual of interest implies a lower interest\n",
    "rate figure."
   ]
  },
  {
   "cell_type": "markdown",
   "metadata": {},
   "source": [
    "#### Discount Factors, Interest Rates, and Compounding Frequencies"
   ]
  },
  {
   "cell_type": "markdown",
   "metadata": {},
   "source": [
    "Given an interest rate and its compounding\n",
    "frequency, we can define a discount factor. Vice versa, given a discount factor,\n",
    "we can define an interest rate together with its compounding frequency.\n",
    "\n",
    "Two compounding frequencies are particularly important: semi-annual compounding\n",
    "and continuous compounding. The semi-annual compounding frequency is the standard\n",
    "benchmark, as it matches the frequency of coupon payments of U.S. Treasury notes and\n",
    "bonds. The continuous compounding, defined below, is also important, mainly for its\n",
    "analytical convenience.\n",
    "\n",
    "**SemiAnnual Compounding**\n",
    "\n",
    "Fact 2.4; Let $r_2(t, T)$ denote the (annualized) semi-annually compounded interest rate\n",
    "between t and T. Then $r_2(t, T)$ defines a discount factor as\n",
    "\n",
    "$$ z(T, t) = \\frac{1}{(1+r_2(t, T)/2)^{2(T-t)}} $$\n",
    "\n",
    "**More frequent Compounding**\n",
    "\n",
    "if we let n denote the number of compounding periods per year we obtain\n",
    "\n",
    "**Fact 2.6** Let the discount factor $Z(t, T)$ be given, and let $r_n(t, T)$ denote the (annualized) n-times compounded interest rate. Then $r_n(t, T)$ is defined by the equation\n",
    "\n",
    "$$ z(t, T) = \\frac{1}{(1+r_n(t, T)/n)^{n(T-t)}} $$\n",
    "\n",
    "We can also solve for the rate of interest: \n",
    "\n",
    "$$ r_n(t,T) = n (Z(t,T)^{-1/(n(T-t))}-1) $$\n",
    "\n",
    "**Continuous Compounding.**\n",
    "\n",
    "The continuously compounded interest rate is obtained by increasing the compounding frequency n to infinity.\n",
    "\n",
    "Fact 2.7 The continuously compounded interest rate $r(t, T)$, obtained from $r_n(t, T)$ for n that increases to infinity, is given by the formula:\n",
    "\n",
    "$$ Z(t, T) = e^{-r(t, T)(T-t)} $$"
   ]
  },
  {
   "cell_type": "code",
   "execution_count": 60,
   "metadata": {},
   "outputs": [],
   "source": [
    "import numpy as np\n",
    "\n",
    "def interest_rate(t, T, F1, F2, n):\n",
    "    z = F1/F2\n",
    "    r = n * ( z**(-1/(n*(T-t)))-1)\n",
    "    return np.round(r,6)\n",
    "\n",
    "def continuous_compounding(t, T, F1, F2):\n",
    "    z = F1/F2\n",
    "    r = - np.log(z)/(T-t)\n",
    "    return r\n",
    "\n",
    "def lognuniform(low=0, high=1, size=None, base=np.e):\n",
    "    return np.power(base, np.random.uniform(low, high, size))"
   ]
  },
  {
   "cell_type": "code",
   "execution_count": 68,
   "metadata": {},
   "outputs": [],
   "source": [
    "compoundings = np.sort(lognuniform(0, 4, size=300))\n",
    "rates = interest_rate(0, 1, 100, 105, compoundings)\n",
    "c_rate = continuous_compounding(0,1,100,105)"
   ]
  },
  {
   "cell_type": "code",
   "execution_count": 72,
   "metadata": {},
   "outputs": [
    {
     "data": {
      "image/png": "[encoded data removed]",
      "text/plain": [
       "<Figure size 864x360 with 1 Axes>"
      ]
     },
     "metadata": {
      "needs_background": "light"
     },
     "output_type": "display_data"
    }
   ],
   "source": [
    "import matplotlib.pyplot as plt\n",
    "import matplotlib.ticker as mtick\n",
    "\n",
    "fig, ax = plt.subplots(figsize=(12,5))\n",
    "ax.plot(compoundings, rates*100, color='k', label='Interest Rate')\n",
    "ax.set_xlabel(\"Compounding Frequency\")\n",
    "ax.set_ylabel(\"Interest Rate (%)\")\n",
    "ax.set_title(f\"Interest Rate as a function of the compounding frequency (Annual return 5%)\")\n",
    "ax.yaxis.set_major_formatter(mtick.PercentFormatter())\n",
    "ax.grid(axis='both', alpha=0.1, color='k', ls='--')\n",
    "ax.spines['top'].set_visible(False)\n",
    "ax.spines['right'].set_visible(False)\n",
    "ax.axhline(c_rate*100, ls='--', color='k', label='Continuous Compounding Limit')\n",
    "ax.legend(frameon=False, loc='best')\n",
    "plt.tight_layout()\n",
    "plt.show()"
   ]
  },
  {
   "cell_type": "markdown",
   "metadata": {},
   "source": [
    "#### The Term Structure Of Interest Rates"
   ]
  },
  {
   "cell_type": "markdown",
   "metadata": {},
   "source": [
    "In the previous sections we noted that the primitive of our analysis is the discount factor,\n",
    "from which we define interest rates of various compounding frequencies. Interest rates,\n",
    "though, have a big advantage over discount factors when we analyze the time value of\n",
    "money: their units can be made uniform across maturities by annualizing them.\n",
    "\n",
    "**Definition 2.3** The term structure of interest rates, or spot rate curve, or yield curve,\n",
    "at a certain time t defines the relation between the level of interest rates and their time to\n",
    "maturity $T −t$. The discount curve at a certain time t defines instead the relation between\n",
    "the discount factors $Z(t, T)$ and their time to maturity $T − t$.\n",
    "\n",
    "**Definition 2.4** The term spread, or slope, is the difference between long-term interest\n",
    "rates (e.g. 10-year rate) and the short-term interest rates (e.g. 3-month rate).\n",
    "\n",
    "Typically, in the U.S. the term spread is positive. How is the term spread determined?\n",
    "Like discount factors, the term spread depends on numerous variables, such as expected\n",
    "future inflation, expected future growth of the economy, agents’ attitudes toward risk, and\n",
    "so on. It is worth mentioning that although the expectation of future higher interest rates\n",
    "may determine today’s term structure of interest rates, this is not the only channel.\n",
    "\n",
    "As for discount factors, the term structure of interest rates depends on the date t at which\n",
    "it is computed."
   ]
  },
  {
   "cell_type": "markdown",
   "metadata": {},
   "source": [
    "### Coupon Bonds"
   ]
  },
  {
   "cell_type": "markdown",
   "metadata": {},
   "source": [
    "U.S. government Treasury bills involve only one payment from the Treasury to the investor\n",
    "at maturity. That is, their coupon rate is zero. They are thus an example of zero coupon\n",
    "bonds, bonds with no intermediate cash flows between issue date and maturity. The\n",
    "knowledge of the prices of zero coupon bonds allows us to determine the discount factor\n",
    "Z(t, T), as described in the previous sections. More specifically, a government zero coupon\n",
    "bond at time t with maturity T has a price equal to\n",
    "\n",
    "$$ P_z(t, T) = 100 Z(t, T) $$\n",
    "\n",
    "The subscript “z” is a mnemonic term for “zero” in zero coupon bond.\n",
    "\n",
    "The Treasury issues zero coupon bonds with maturities up to only 52 weeks. For\n",
    "longer maturities, the Treasury issues securities that carry a coupon, that is, they also pay\n",
    "a sequence of cash flows (the coupons) between issue date and maturity, in addition to the\n",
    "final principal.\n",
    "\n",
    "Note that a coupon bond can be represented by the sequence of its cash payments. Given the sequence of\n",
    "cash flows, which are certain in the sense that Government is extremely unlikely\n",
    "to default, we could compute the value of the bond itself if we knew the discount factors\n",
    "$Z(t, T)$ to apply to each of the cash flow dates. In fact, we can discount each future cash flow\n",
    "using its own discount factor, and sum the results.\n",
    "\n",
    "**Fact 2.8** Consider a coupon bond at time $t$ with coupon rate $c$, maturity $T$ and payment\n",
    "dates $T1, T2 ,...,Tn = T$. Let there be discount factors $Z(t, T_i)$ for each date $T_i$ . Then the\n",
    "value of the coupon bond can be computed as:\n",
    "\n",
    "$$P_c(t, T_n) = \\frac{100c}{2}Z(t, T_1)+\\frac{100c}{2}Z(t, T_1)+...+\\bigg(\\frac{100c}{2}+100\\bigg)Z(t, T_1)$$\n",
    "\n",
    "$$ = \\frac{100c}{2} \\sum_{i=1}^T Z(t, T_i)+100Z(t, T_n)$$\n",
    "\n",
    "$$ = \\frac{c}{2}\\sum_{i=1}^n P_z(t, T_i)+P_z(t, T_n) $$\n",
    "\n",
    "The subscript “c” is a mnemonic device for “coupon” in coupon bond. This Formula shows that the coupon bond can be considered as a portfolio of zero coupon bonds.\n",
    "\n",
    "**Fact 2.9** Let the semi-annual discount rate be constant across maturities, r2 (t, Ti) = r2\n",
    "for every Ti . At issue date t = 0, the price of a coupon bond with coupon rate equal to the\n",
    "constant semi-annual rate c = r2 is equal to par.\n",
    "\n",
    "**A No Arbitrage Argument**: We can establish Equation 9 also by appealing\n",
    "to a no arbitrage argument. In well-functioning markets in which both the coupon bond\n",
    "$P_c(t, T_n )$ and the zero coupon bonds $P_z(t, T_i)$ are traded in the market, if 9\n",
    "did not hold, an arbitrageur could make large risk-free profits.\n",
    "\n",
    "In well-functioning markets such arbitrage opportunities cannot last for long. Thus, Equation\n",
    "9 should hold “most of the time.” It may happen that due to lack of liquidity\n",
    "or trading, some arbitrage opportunities may be detectable in the relative pricing of zero\n",
    "coupon bonds, such as STRIPS, and coupon bonds. However, these arbitrage opportunities\n",
    "are seldom exploitable: As soon as an arbitrageur tries to set up an arbitrage like the one\n",
    "described above, prices move instantly and the profit vanishes. Because expert arbitrageurs\n",
    "know this fact, some apparent mispricing may persist in the market place. We will regard\n",
    "such situations as “noise,” that is, a little imprecision in market prices due to liquidity or\n",
    "external factors that sometimes impede the smooth functioning of capital markets."
   ]
  },
  {
   "cell_type": "markdown",
   "metadata": {},
   "source": [
    "#### From Coupon Bonds to Zero Coupon Bonds\n",
    "\n",
    "We can also go the other way around: If we have enough coupon bonds, we can compute\n",
    "the implicit value of zero coupon bonds from the prices of coupon bonds. Equation 9\n",
    "can be used to estimate the discount factors Z(t, T) for every maturity.\n",
    "\n",
    "If we have a sufficient amount of data, we can proceed iteratively for every maturity,\n",
    "and obtain all of the discount factors Z(t, T). This methodology is called the bootstrap\n",
    "methodology.\n",
    "\n",
    "**Definition 2.5** Let $t$ be a given date. Let there be $n$ coupon bonds, with coupons $c_i$ ,\n",
    "maturities $T_i$ and prices denoted by $P(t, T_)$. Assume that maturities are at regular\n",
    "intervals of six months, that is, $T_1 = t + 0.5$ and $Ti = T_{i−1} + 0.5$. Then, the bootstrap\n",
    "methodology to estimate discount factors $Z(t, T_i)$ for every i = 1, ..., n is as follows:\n",
    "\n",
    "1. The first discount factor Z(t, T1 ) is given by\n",
    "\n",
    "$$ Z(t, T_1) = \\frac{P_c(t, T_1)}{100(1+c_1/2)} $$\n",
    "\n",
    "2. Any other discount factor Z(t, Ti) for i = 2, ..., n is given by\n",
    "\n",
    "$$ Z(t, T_i) = \\frac{P_c(t,T_i)-100 c_i/2 \\sum_{j=1}^{i-1}Z(t, T_j)}{100(1+c_i/2)} $$\n",
    "\n",
    "This procedure is relatively simple to implement, as the example above shows. One\n",
    "of the issues, though, is that bond data at six-month intervals are not always available.\n",
    "Unfortunately, this procedure requires all of the bonds, because otherwise the iterative\n",
    "procedure stops and there is no way to keep going."
   ]
  },
  {
   "cell_type": "markdown",
   "metadata": {},
   "source": [
    "#### Expected Return and the Yield To Maturity"
   ]
  },
  {
   "cell_type": "markdown",
   "metadata": {},
   "source": [
    "How can we measure the expected return on an investment in Treasury securities? Assuming\n",
    "the investor will hold the bond until maturity, computing the expected return on an\n",
    "investment in a zero coupon bond is relatively straightforward, as the final payoff is known\n",
    "and there are no intermediate cash flows. Thus, quite immediately, we have:\n",
    "\n",
    "$$ R = \\frac{1}{Z(t, T)} -1 $$\n",
    "\n",
    "Or annualized:\n",
    "\n",
    "$$ R = \\bigg(\\frac{1}{Z(t, T)}\\bigg)^{1/(T-t)} -1 $$\n",
    "\n",
    "For coupon bonds it is more complicated. A popular measure of return on investment\n",
    "for coupon bonds is called yield to maturity, which is defined as follows:\n",
    "\n",
    "**Definition 2.6** Let $P_c (t, T)$ be the price at time t of a Treasury bond with coupon c, face value F and\n",
    "maturity T. Let $T_i$ denote the coupon payments times, for i = 1, ..., n. The semi-annually\n",
    "compounded yield to maturity, or internal rate of return, is defined as the constant rate\n",
    "y that makes the discounted present value of the bond future cash flows equal to its price.\n",
    "That is, y is defined by the equation:\n",
    "\n",
    "$$ P_c(t, T) = F\\sum_{i=1}^n \\frac{c/2}{(1+y/2)^{2(T_i-t)}} + \\frac{1}{(1+y/2)^{2(T_n-t)}} $$\n",
    "\n",
    "to some extent, the yield to maturity y can be considered an average of the semi-annually compounded spot\n",
    "rates, which define the discount $Z(0, T)$. However, it is important to note that this “average” depends on the coupon level c. In fact:\n",
    "\n",
    "**Fact 2.10** Two different bonds that have the same maturity but different coupon rates c have different yield to maturities y.\n",
    "\n",
    "we need to note that y correctly measures the expected return on an investment only under the\n",
    "strict condition that the investor can reinvest all of the coupons at the rate y over the life of\n",
    "the bond.\n",
    "\n",
    "Given that it is practically impossible for an investor to reinvest all of the coupons at\n",
    "the constant yield to maturity y , this latter measure is in fact a poor measure of expected\n",
    "return. Indeed, the definition of a return on an investment cannot be given without a precise\n",
    "definition of the time interval during which the security is held. For instance, a 10-year\n",
    "STRIP provides a certain annualized return if the security is held until\n",
    "maturity. However, if the investor sells the bond after one year, the return may be higher or\n",
    "lower than the promised yield depending on what happens to interest rates.\n",
    "\n",
    "A substantial increase in interest rates, for instance, will tend to lower prices of long-term\n",
    "bonds, and thus the investor can end up with a capital loss.\n",
    "\n",
    "Why then do traders use the notion of yield to maturity y in their every day trading?\n",
    "Given a coupon rate c, the yield equation shows that there is a one-to-one relation between the\n",
    "price $P_c$ of the bond and the yield to maturity $y$. Thus, a trader can quote the same bond\n",
    "by using $P_c$ or y. To some extent, then, the yield to maturity is just a convenient way of\n",
    "quoting a bond price to other traders."
   ]
  },
  {
   "cell_type": "markdown",
   "metadata": {},
   "source": [
    "### Quoting Conventions"
   ]
  },
  {
   "cell_type": "markdown",
   "metadata": {},
   "source": [
    "**Treasury Bills.**\n",
    "\n",
    "Treasury bills are quoted on a discount basis. That is, rather\n",
    "than quoting a price $P_{bill}(t, T)$ for a Treasury bill, Treasury dealers quote the following\n",
    "quantity\n",
    "\n",
    "$$ d = \\frac{100-P_{bill}(t, T)}{100}\\frac{360}{n}$$\n",
    "\n",
    "where n is the number of calendar days between t and T. Given a quote d from a Treasury dealer, we can compute the price of the Treasury bill by solving for $P_{bill}(t, T)$\n",
    "\n",
    "**Treasury Coupon Notes and Bonds.**\n",
    "\n",
    "Coupon notes and bonds present\n",
    "an additional complication. Between coupon dates, interest accrues on the bond. If a bond\n",
    "is purchased between coupon dates, the buyer is only entitled to the portion of the coupon\n",
    "that accrues between the purchase date and the next coupon date. The seller of the bond is\n",
    "entitled to the portion of the coupon that accrued between the last coupon and the purchase\n",
    "date. It is market convention to quote Treasury notes and bonds without any inclusion of\n",
    "accrued interests. However, the buyer agrees to pay the seller any accrued interest between\n",
    "the last coupon date and purchase price. That is, we have the formula:\n",
    "\n",
    "$$ InvoicePrice = QuotedPrice + AccruedInterest$$\n",
    "\n",
    "The quoted price is sometimes referred to as the clean price while the invoice price is\n",
    "sometimes also called dirty price.\n",
    "The accrued interest is computed using the following intuitive formula:\n",
    "\n",
    "$$ AccruedInterest = FullInterest \\frac{DaysSinceLastCouponDate}{DaysBetweenCouponPayments} $$\n",
    "\n",
    "Market conventions also determine the methodology to count days. For example (not only this ones exist):\n",
    "\n",
    "1. **Actual/Actual**: Simply count the number of calendar days between coupons;\n",
    "2. **30/360**: Assume there are 30 days in a month and 360 in a year;\n",
    "3. **Actual/360**: Each month has the right number of days according to the calendar, but there are only 360 days in a year.\n",
    "\n",
    "Which convention is used depends on the security considered. For instance, Treasury\n",
    "bills use actual/360 while Treasury notes and bonds use the actual/actual counting\n",
    "convention."
   ]
  }
 ],
 "metadata": {
  "kernelspec": {
   "display_name": "Python [conda env:root] *",
   "language": "python",
   "name": "conda-root-py"
  },
  "language_info": {
   "codemirror_mode": {
    "name": "ipython",
    "version": 3
   },
   "file_extension": ".py",
   "mimetype": "text/x-python",
   "name": "python",
   "nbconvert_exporter": "python",
   "pygments_lexer": "ipython3",
   "version": "3.7.6"
  },
  "latex_envs": {
   "LaTeX_envs_menu_present": true,
   "autoclose": false,
   "autocomplete": true,
   "bibliofile": "biblio.bib",
   "cite_by": "apalike",
   "current_citInitial": 1,
   "eqLabelWithNumbers": true,
   "eqNumInitial": 1,
   "hotkeys": {
    "equation": "Ctrl-E",
    "itemize": "Ctrl-I"
   },
   "labels_anchors": false,
   "latex_user_defs": false,
   "report_style_numbering": false,
   "user_envs_cfg": false
  },
  "toc": {
   "base_numbering": 1,
   "nav_menu": {},
   "number_sections": true,
   "sideBar": true,
   "skip_h1_title": true,
   "title_cell": "Table of Contents",
   "title_sidebar": "Contents",
   "toc_cell": true,
   "toc_position": {
    "height": "calc(100% - 180px)",
    "left": "10px",
    "top": "150px",
    "width": "303px"
   },
   "toc_section_display": true,
   "toc_window_display": true
  }
 },
 "nbformat": 4,
 "nbformat_minor": 4
}
